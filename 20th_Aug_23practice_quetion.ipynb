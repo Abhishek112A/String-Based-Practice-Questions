{
 "cells": [
  {
   "cell_type": "code",
   "execution_count": 1,
   "id": "354a9f86-e68c-405e-9958-46ca61337dca",
   "metadata": {},
   "outputs": [
    {
     "name": "stdout",
     "output_type": "stream",
     "text": [
      "!erukas ,kehsihbA\n"
     ]
    }
   ],
   "source": [
    "# [Que 1].Write a program to reverse a string.\n",
    "\n",
    "# Step 1: Define a function called reverse_string that takes an input_string as its parameter.\n",
    "def reverse_string(input_string):\n",
    "    \n",
    "    # Step 2: Initialize an empty string called reversed_string to store the reversed characters.\n",
    "    reverse_string = \"\"\n",
    "    \n",
    "    for char in input_string :\n",
    "        # Step 3: Start a loop that iterates through each character in the input_string.\n",
    "        \n",
    "        reverse_string = char + reverse_string\n",
    "        # Step 4: Concatenate the current character with the existing reversed_string.\n",
    "        # This effectively adds the current character to the beginning of the reversed string.\n",
    "    return reverse_string\n",
    "    # Step 5: After the loop is done, return the reversed_string as the output of the function.\n",
    "\n",
    "input_string = \"Abhishek, sakure!\"\n",
    "reverse_string = reverse_string(input_string)\n",
    "print(reverse_string)\n",
    "\n"
   ]
  },
  {
   "cell_type": "code",
   "execution_count": 2,
   "id": "b7f647d8-2f71-4587-89b7-0005c157865b",
   "metadata": {},
   "outputs": [
    {
     "name": "stdout",
     "output_type": "stream",
     "text": [
      "True\n",
      "False\n",
      "True\n"
     ]
    }
   ],
   "source": [
    "#[Que 2].Check if a stringis a palindrome.\n",
    "\n",
    "def is_palindrome(s) :\n",
    "     # Convert the string to lowercase to ensure case-insensitive comparison\n",
    "    s = s.lower()\n",
    "    \n",
    "    # Remove spaces and punctuation from the string\n",
    "    s = ''.join(e for e in s if e.isalnum())\n",
    "    \n",
    "    # Compare the original string with its reverse\n",
    "    return s == s[ :: -1]\n",
    "\n",
    "print(is_palindrome(\"racecar\"))\n",
    "print(is_palindrome(\"hello\"))\n",
    "print(is_palindrome(\"A man, a plan, a canal, Panama\"))\n",
    "\n"
   ]
  },
  {
   "cell_type": "code",
   "execution_count": 1,
   "id": "e241fcab-638e-4661-b46a-42604566c09a",
   "metadata": {},
   "outputs": [
    {
     "name": "stdin",
     "output_type": "stream",
     "text": [
      "Enter a name :  abhishek sakure\n"
     ]
    },
    {
     "name": "stdout",
     "output_type": "stream",
     "text": [
      "Uppercase string: ABHISHEK SAKURE\n"
     ]
    }
   ],
   "source": [
    "#[Que.3].Convert a string to uppercase\n",
    "\n",
    "# Step 1: Get input from the user\n",
    "input_string = input(\"Enter a name : \")\n",
    "\n",
    "# Step 2: Convert the string to uppercase\n",
    "uppercase_string = input_string.upper()\n",
    "\n",
    "# Step 3: Print the uppercase string\n",
    "print(\"Uppercase string:\", uppercase_string)\n"
   ]
  },
  {
   "cell_type": "code",
   "execution_count": 2,
   "id": "43adbe71-bf2d-4bb3-9da3-281522626856",
   "metadata": {},
   "outputs": [
    {
     "name": "stdin",
     "output_type": "stream",
     "text": [
      "Enter a string:  ABHISHEK SAKURE\n"
     ]
    },
    {
     "name": "stdout",
     "output_type": "stream",
     "text": [
      "lowercase string: abhishek sakure\n"
     ]
    }
   ],
   "source": [
    "#[Que.4].Convert a string to lowercase.\n",
    "\n",
    "# Step 1: Get input from the user\n",
    "input_string = input(\"Enter a string: \")\n",
    "\n",
    "# Step 2: Convert the string to lowercase using the lower() method\n",
    "lowercase_string = input_string.lower()\n",
    "\n",
    "# Step 3: Print the lowercase string\n",
    "print(\"lowercase string:\", lowercase_string)\n",
    "                     "
   ]
  },
  {
   "cell_type": "code",
   "execution_count": 3,
   "id": "fa5b4235-dfb0-4316-a294-a5c4f902905a",
   "metadata": {},
   "outputs": [
    {
     "name": "stdout",
     "output_type": "stream",
     "text": [
      "Number of vowels: 6\n"
     ]
    }
   ],
   "source": [
    "#[Que.5].Count the number of vowels in a string.\n",
    "\n",
    "def count_vowels(string):    \n",
    "    # Initialize a variable to keep track of the vowel count\n",
    "    vowel_count = 0\n",
    "    \n",
    "    # Initialize a variable to keep track of the vowel count\n",
    "    string =string.lower()\n",
    "    \n",
    "    # Define a set of vowels\n",
    "    vowels = set(\"aeiou\")\n",
    "\n",
    "    # Iterate through each character in the string\n",
    "    for char in string :\n",
    "        # Check if the character is a vowel\n",
    "        if char in vowels :\n",
    "              # Increment the vowel count if the character is a vowel\n",
    "            vowel_count += 1\n",
    "        \n",
    "    # Return the final vowel count\n",
    "    return vowel_count\n",
    "\n",
    "# Test the function\n",
    "input_string = \"hey, who are you?\"\n",
    "result = count_vowels(input_string)\n",
    "print(\"Number of vowels:\", result)"
   ]
  },
  {
   "cell_type": "code",
   "execution_count": 4,
   "id": "096f86ad-9824-4bb8-b758-3238112807aa",
   "metadata": {},
   "outputs": [
    {
     "name": "stdin",
     "output_type": "stream",
     "text": [
      "Enter a string Data Science pro\n"
     ]
    },
    {
     "name": "stdout",
     "output_type": "stream",
     "text": [
      "Number of consonants 8\n"
     ]
    }
   ],
   "source": [
    "#[Que.6].Count the number of consonants in a string.\n",
    "\n",
    "def count_consonants(string):\n",
    "    # Initialize a variable to keep track of the count of consonants\n",
    "    count_consonants = 0\n",
    "    \n",
    "   # Define a set of consonant characters \n",
    "    consonants = \"bcdfghjklmnpqrstwxyzBCDFGHJKLMNPQRSTWXYZ\"\n",
    "    \n",
    "    # Iterate through each character in the input string\n",
    "    for char in string :\n",
    "         # Check if the character is in the set of consonants\n",
    "        if char in consonants :\n",
    "            # Increment the consonant count\n",
    "             count_consonants += 1\n",
    "      \n",
    "    # Return the final count of consonants        \n",
    "    return count_consonants\n",
    "\n",
    "# Input string\n",
    "input_string = input(\"Enter a string\")\n",
    "\n",
    "# Call the function and print the result\n",
    "result = count_consonants(input_string)\n",
    "print(\"Number of consonants\",result)\n",
    "    "
   ]
  },
  {
   "cell_type": "code",
   "execution_count": 5,
   "id": "d7bfdf10-6350-4cf3-bcd1-d1ec07a94ad9",
   "metadata": {},
   "outputs": [
    {
     "name": "stdout",
     "output_type": "stream",
     "text": [
      "HiRaju!Whatareyoudoing?\n"
     ]
    }
   ],
   "source": [
    "#[Que.7].Remove a;; whitespaces from a string.\n",
    "\n",
    "def remove_whitespaces(input_string):\n",
    "    # Step 1: Initialize an empty string to store the result.\n",
    "    result = \"\"\n",
    "    \n",
    "    # Step 2: Iterate through each character in the input string.\n",
    "    for char in input_string :\n",
    "         # Step 3: Check if the character is a whitespace.\n",
    "        if char != \" \" :\n",
    "            # Step 4: If the character is not a whitespace, append it to the result string.\n",
    "            result += char\n",
    "   \n",
    "    # Step 5: Return the result string with all whitespaces removed.        \n",
    "    return result\n",
    "\n",
    "# Example usage\n",
    "input_string = \"Hi Raju! What are you doing?\"\n",
    "output_string = remove_whitespaces(input_string)\n",
    "print(output_string)\n",
    "    "
   ]
  },
  {
   "cell_type": "code",
   "execution_count": 6,
   "id": "f18be0d3-1268-4748-9c5d-ce459ac19532",
   "metadata": {},
   "outputs": [
    {
     "name": "stdout",
     "output_type": "stream",
     "text": [
      "The length of the string is: 28\n"
     ]
    }
   ],
   "source": [
    "#[Que.8].Find the length of a string without using the len() function.\n",
    "\n",
    "# Step 1: Initialize a variable to keep track of the count\n",
    "count = 0 \n",
    "\n",
    "# Step 2: Iterate through each character in the string\n",
    "for char in input_string :  # Replace 'input_string' with your actual string variable\n",
    "    # Step 3: Increment the count variable by 1 for each character\n",
    "    count += 1\n",
    "    \n",
    "# Step 5: Print the final count, which represents the length of the string\n",
    "print(\"The length of the string is:\", count)\n"
   ]
  },
  {
   "cell_type": "code",
   "execution_count": 7,
   "id": "de83b674-9d1e-4ed4-b83a-15785f01438e",
   "metadata": {},
   "outputs": [
    {
     "name": "stdin",
     "output_type": "stream",
     "text": [
      "Enter a string:  my name is rohit iin class 7th\n",
      "Enter a specific word check for: abhi\n"
     ]
    },
    {
     "name": "stdout",
     "output_type": "stream",
     "text": [
      "The string does not contain the word 'abhi'.\n"
     ]
    }
   ],
   "source": [
    "#[Que.9].Check if a string contains a sepecific word.\n",
    "\n",
    "# Step 1: Input the string and the specific word\n",
    "input_string = input(\"Enter a string: \")\n",
    "specific_word = input(\"Enter a specific word check for:\")\n",
    "\n",
    "# Step 2: Check if the specific word is present in the string using the 'in' keyword\n",
    "if specific_word in input_string :\n",
    "    # Step 3: Print message if word is present\n",
    "    print(f\"The string contains the word '{specific_word}'.\")\n",
    "    \n",
    "else :\n",
    "       # Step 3: Print message if word is not present\n",
    "    print(f\"The string does not contain the word '{specific_word}'.\")"
   ]
  },
  {
   "cell_type": "code",
   "execution_count": 8,
   "id": "1c1eab81-741f-48af-bc7f-7a1c333de98d",
   "metadata": {},
   "outputs": [
    {
     "name": "stdin",
     "output_type": "stream",
     "text": [
      "Enter a sentence: hello abhi\n",
      "Enter the word to be replaced: abhi\n",
      "Enter the new word:  rohini\n"
     ]
    },
    {
     "name": "stdout",
     "output_type": "stream",
     "text": [
      "Modified string: hello rohini\n"
     ]
    }
   ],
   "source": [
    "#[Que .10].Replace a word in a string with another word.\n",
    "\n",
    "# Step 1: Accept the input string\n",
    "input_string = input(\"Enter a sentence:\")\n",
    "\n",
    "# Step 2: Accept the old word and the new word\n",
    "old_word = input(\"Enter the word to be replaced:\")\n",
    "new_word = input(\"Enter the new word: \")\n",
    "\n",
    "# Step 3: Replace the old word with the new word using string.replace() method\n",
    "modified_string = input_string.replace(old_word, new_word)\n",
    "\n",
    "# Step 4: Print the modified string\n",
    "print(\"Modified string:\", modified_string)"
   ]
  },
  {
   "cell_type": "code",
   "execution_count": 9,
   "id": "783d6342-b1e3-481a-b2c3-c825165bf060",
   "metadata": {},
   "outputs": [
    {
     "name": "stdout",
     "output_type": "stream",
     "text": [
      "The word 'sample' appears 1 times in the input string.\n"
     ]
    }
   ],
   "source": [
    "#[Que.11].Count the occurences of a word in a string.\n",
    "\n",
    "def count_word_ocurrences(input_string, target_word):\n",
    "    # Step 1: Initialize a variable to keep track of the word count\n",
    "    word_count = 0\n",
    "\n",
    "    # Step 2: Split the input string into a list of words\n",
    "    words = input_string.split()\n",
    "\n",
    "    # Step 3: Iterate through each word in the list\n",
    "    for word in words :\n",
    "        # Step 4: Check if the current word matches the target word\n",
    "        if word == target_word:\n",
    "          # Step 5: Increment the word count if the words match   \n",
    "            word_count += 1\n",
    "   \n",
    "      # Step 6: Return the final word count\n",
    "    return word_count\n",
    "\n",
    "# Input string\n",
    "input_string = \"This is a sample sentence. This sentence contains the word 'sample' multiple times.\"\n",
    "\n",
    "# Target word to count\n",
    "target_word = \"sample\"\n",
    "\n",
    "# Call the function and print the result\n",
    "result = count_word_ocurrences(input_string, target_word)\n",
    "print(f\"The word '{target_word}' appears {result} times in the input string.\")\n"
   ]
  },
  {
   "cell_type": "code",
   "execution_count": 10,
   "id": "e8106dde-f8b5-4679-8e21-cf5d3880d044",
   "metadata": {},
   "outputs": [
    {
     "name": "stdout",
     "output_type": "stream",
     "text": [
      "Index of the first occureence: 11\n"
     ]
    }
   ],
   "source": [
    "#[Que.12].Find the first occurrence of a word in a string.\n",
    "\n",
    "def find_first_occurrence(text, word):\n",
    "       # Step 1: Find the index of the first occurrence of the word in the text.\n",
    "        index = text.find(word)\n",
    "    \n",
    "        # Step 2: Check if the index is -1, indicating that the word was not found.\n",
    "        if index == -1:\n",
    "            return None  # Return None if the word is not found.\n",
    "       \n",
    "         \n",
    "    # Step 3: Return the index of the first occurrence of the word.\n",
    "        return index\n",
    "  \n",
    " # Example usage\n",
    "text = \"This is an example sentence. This sentence contains the word example.\"\n",
    "word = \"example\"\n",
    "result = find_first_occurrence(text, word)\n",
    "print(\"Index of the first occureence:\", result)"
   ]
  },
  {
   "cell_type": "code",
   "execution_count": 14,
   "id": "189bcb39-05e6-4452-915e-ed1403ef7bfe",
   "metadata": {},
   "outputs": [
    {
     "name": "stdout",
     "output_type": "stream",
     "text": [
      "Index of the last occurrence: 61\n"
     ]
    }
   ],
   "source": [
    "#[Que.13].Find the last occurrence of a word in a string.\n",
    "\n",
    "def find_last_occurrence(text, word):\n",
    "    # Step 1: Find the index of the last occurrence of the word in the text.\n",
    "    index = text.rfind(word)\n",
    "    # Step 2: Check if the index is -1, indicating that the word was not found.    \n",
    "    if index == -1:\n",
    "        return None  # Return None if the word is not found.\n",
    "    \n",
    "     # Step 3: Return the index of the last occurrence of the word.\n",
    "    return index\n",
    " # Example usage   \n",
    "text = \"This is an example sentence. This sentence contains the word example.\"\n",
    "word = \"example\"\n",
    "result = find_last_occurrence(text, word)\n",
    "print(\"Index of the last occurrence:\", result)"
   ]
  },
  {
   "cell_type": "code",
   "execution_count": 12,
   "id": "4ff5eb03-0e45-46c5-ac8e-7cc6f7a4252a",
   "metadata": {},
   "outputs": [
    {
     "name": "stdout",
     "output_type": "stream",
     "text": [
      "List of words: ['This', 'is', 'an', 'example', 'sentence']\n"
     ]
    }
   ],
   "source": [
    "#[Que.14].Split a string into a list of words.\n",
    "\n",
    "def split_string_into_words(text):\n",
    "    words_list = text.split()\n",
    "    \n",
    "    return words_list\n",
    "\n",
    "text = \" This is an example sentence\"\n",
    "words = split_string_into_words(text)\n",
    "print(\"List of words:\", words)"
   ]
  },
  {
   "cell_type": "code",
   "execution_count": 15,
   "id": "3c61bcb3-03ac-484b-96b5-f3b049685176",
   "metadata": {},
   "outputs": [
    {
     "name": "stdout",
     "output_type": "stream",
     "text": [
      "Joined string: There are not found.\n"
     ]
    }
   ],
   "source": [
    "#[Que.15].Join a list of  words into a string.\n",
    "\n",
    "def join_words_into_string(words_list):\n",
    "    # Step 1: Use the join() method to join the words in the list into a single string.\n",
    "    joined_string = ' '.join(words_list)\n",
    "    \n",
    "     # Step 2: Return the joined string.\n",
    "    return joined_string\n",
    "\n",
    "# Example usage\n",
    "words = [\"There\", \"are\", \"not\", \"found.\"]\n",
    "text = join_words_into_string(words)\n",
    "print(\"Joined string:\", text)"
   ]
  },
  {
   "cell_type": "code",
   "execution_count": 16,
   "id": "424cacb2-6f77-4918-96e3-f6e2e635aabc",
   "metadata": {},
   "outputs": [
    {
     "name": "stdout",
     "output_type": "stream",
     "text": [
      "Converted text: There _are _not _eligible.\n"
     ]
    }
   ],
   "source": [
    "#[Que.16].Convert a string where words are separated by spaces to one where words are separated by underscores.\n",
    "\n",
    "def convert_to_underscore_seprated(text):\n",
    "     # Step 1: Use the replace() method to replace spaces with underscores.\n",
    "    underscore_seprated = text.replace(\" \",\" _\")\n",
    "    \n",
    "     # Step 2: Return the converted string.\n",
    "    return underscore_seprated\n",
    "\n",
    "# Example usage\n",
    "text = \"There are not eligible.\"\n",
    "converted_text = convert_to_underscore_seprated(text)\n",
    "print(\"Converted text:\", converted_text)"
   ]
  },
  {
   "cell_type": "code",
   "execution_count": 17,
   "id": "db4bae04-e97b-4fff-97ea-384894a62f35",
   "metadata": {},
   "outputs": [
    {
     "name": "stdout",
     "output_type": "stream",
     "text": [
      "The text starts with the prefix\n"
     ]
    }
   ],
   "source": [
    "#[Que.17].Check if a string starts with a specific word or phrase.\n",
    "\n",
    "def starts_with(text, prefix):\n",
    "    # Step 1: Use the startswith() method to check if the text starts with the specified prefix.\n",
    "    is_start = text.startswith(prefix)\n",
    "    \n",
    "    # Step 2: Return the result of the check.\n",
    "    return is_start\n",
    "\n",
    "\n",
    "# Example usage\n",
    "text = \"Hello, world!\"\n",
    "prefix = \"Hello\"\n",
    "result = starts_with(text, prefix)\n",
    "if result:\n",
    "    print(\"The text starts with the prefix\")\n",
    "else :\n",
    "    print(\"The text does not starts with the prefix\")"
   ]
  },
  {
   "cell_type": "code",
   "execution_count": 18,
   "id": "cabde7d3-38a3-4201-8891-735f6c1ea262",
   "metadata": {},
   "outputs": [
    {
     "name": "stdout",
     "output_type": "stream",
     "text": [
      "The text ends with the suffix.\n"
     ]
    }
   ],
   "source": [
    "#[Que.18]. Check if a string ends with a specific word or phrase.\n",
    "\n",
    "def ends_with(text, suffix):\n",
    "    # Step 1: Use the endswith() method to check if the text ends with the specified suffix.\n",
    "    is_end = text.endswith(suffix)\n",
    "    \n",
    "     # Step 2: Return the result of the check.\n",
    "    return is_end\n",
    "\n",
    "# Example usage\n",
    "text = \"Hello, world!\"\n",
    "suffix = \"world!\"\n",
    "result = ends_with(text, suffix)\n",
    "if result :\n",
    "    print(\"The text ends with the suffix.\")\n",
    "else :\n",
    "    print(\"The text does not ends with the suffix.\")"
   ]
  },
  {
   "cell_type": "code",
   "execution_count": 19,
   "id": "26c8b618-37d3-4f43-9765-341b2ee1a7b2",
   "metadata": {},
   "outputs": [
    {
     "name": "stdout",
     "output_type": "stream",
     "text": [
      "Title case: Abhishek Sakure\n"
     ]
    }
   ],
   "source": [
    "#[Que.19]. Convert a string to title case (e.g., \"hello world\" to \"Hello World\").\n",
    "\n",
    "def convert_to_title_case(text):\n",
    "    # Step 1: Use the title() method to convert the text to title case.\n",
    "    title_case_text = text.title()\n",
    "    \n",
    "       # Step 2: Return the converted text.\n",
    "    return title_case_text\n",
    "\n",
    "# Example usage\n",
    "text = \"abhishek sakure\"\n",
    "title_case_text = convert_to_title_case(text)\n",
    "print(\"Title case:\", title_case_text)"
   ]
  },
  {
   "cell_type": "code",
   "execution_count": 20,
   "id": "cbba34c4-c7e5-471b-9f20-3942b42f2b06",
   "metadata": {},
   "outputs": [
    {
     "name": "stdout",
     "output_type": "stream",
     "text": [
      "Longest word: sentence\n"
     ]
    }
   ],
   "source": [
    "#[Que.20].Find the longest word in a string.\n",
    "\n",
    "def find_longest_word(text):\n",
    "    # Step 1: Use the split() method to split the text into a list of words.\n",
    "    words = text.split()\n",
    "    \n",
    "    # Step 2: Initialize variables to keep track of the longest word and its length.\n",
    "    longest_word = \"\"\n",
    "    max_length = 0\n",
    "    \n",
    "      # Step 3: Iterate through the list of words.\n",
    "    for word in words:\n",
    "         #Check if the length of the current word is greater than the current max_length.\n",
    "        if len(word) > max_length:\n",
    "            max_length = len(word)\n",
    "            longest_word = word\n",
    "      # Step 4: Return the longest word.        \n",
    "    return longest_word\n",
    "\n",
    "text = \"This is an example sentence with some long words.\"\n",
    "longest_word = find_longest_word(text)\n",
    "print(\"Longest word:\", longest_word)"
   ]
  },
  {
   "cell_type": "code",
   "execution_count": 5,
   "id": "3a0909ef-0cdd-4240-8738-0d4f3e27e79c",
   "metadata": {},
   "outputs": [
    {
     "name": "stdout",
     "output_type": "stream",
     "text": [
      "Shortest word: is\n"
     ]
    }
   ],
   "source": [
    "#[Que.21].Find the sortest word in a string.\n",
    "\n",
    "def find_shortest_word(text):\n",
    "    # Step 1: Use the split() method to split the text into a list of words.\n",
    "    words = text.split()\n",
    "    \n",
    "    # Step 2: Initialize variables to keep track of the shortest word and its length.\n",
    "    shortest_word = None\n",
    "    min_length = float('inf')  # Initialize to a large value\n",
    "    \n",
    "      # Step 3: Iterate through the list of words.\n",
    "    for word in words:\n",
    "        # Check if the length of the current word is smaller than the current min_length.\n",
    "        if len(word) < min_length:\n",
    "            min_length = len(word)\n",
    "            shortest_word = word\n",
    "    \n",
    "    # Step 4: Return the shortest word.\n",
    "    return shortest_word\n",
    "\n",
    "# Example usage\n",
    "text = \"This is an example sentence with some short words.\"\n",
    "shortest_word = find_shortest_word(text)\n",
    "print(\"Shortest word:\", shortest_word)"
   ]
  },
  {
   "cell_type": "code",
   "execution_count": 6,
   "id": "f33d421f-4d23-4f56-afd7-540839d907c6",
   "metadata": {},
   "outputs": [
    {
     "name": "stdout",
     "output_type": "stream",
     "text": [
      "Shortest word: is\n"
     ]
    }
   ],
   "source": [
    "#[Que.22].Reverse the order of words in a string.\n",
    "\n",
    "def find_shortest_word(text):\n",
    "    # Step 1: Use the split() method to split the text into a list of words.\n",
    "    words = text.split()\n",
    "    \n",
    "    # Step 2: Initialize variables to keep track of the shortest word and its length.\n",
    "    shortest_word = None\n",
    "    min_length = float('inf')  # Initialize to a large value\n",
    "    \n",
    "     # Step 3: Iterate through the list of words.\n",
    "    for word in words:\n",
    "        # Check if the length of the current word is smaller than the current min_length.\n",
    "        if len(word) < min_length:\n",
    "            min_length = len(word)\n",
    "            shortest_word = word\n",
    "    \n",
    "    # Step 4: Return the shortest word.\n",
    "    return shortest_word\n",
    "\n",
    "# Example usage\n",
    "text = \" This is an example with some short words.\"\n",
    "shortest_word = find_shortest_word(text)\n",
    "print(\"Shortest word:\", shortest_word)\n",
    "        "
   ]
  },
  {
   "cell_type": "code",
   "execution_count": 7,
   "id": "1c0cb12c-e439-482b-9138-5fd5c4e646e7",
   "metadata": {},
   "outputs": [
    {
     "name": "stdout",
     "output_type": "stream",
     "text": [
      "The string is alphanumeric\n"
     ]
    }
   ],
   "source": [
    "#[Que.23].Check if a string is alphanumeric.\n",
    "\n",
    "def is_alphanumeric(text):\n",
    "     # Step 1: Use the isalnum() method to check if the string is alphanumeric.\n",
    "    return text.isalnum()\n",
    "\n",
    "# Example usage\n",
    "text = \"Abhi0231\"\n",
    "result = is_alphanumeric(text)\n",
    "if result :\n",
    "    print(\"The string is alphanumeric\")\n",
    "else :\n",
    "    print(\"The string is not alphanumeric\")"
   ]
  },
  {
   "cell_type": "code",
   "execution_count": 8,
   "id": "67a20eac-a795-466c-92fc-eb8a95a6f3f3",
   "metadata": {},
   "outputs": [
    {
     "name": "stdout",
     "output_type": "stream",
     "text": [
      "Extracted digits: 2321321\n"
     ]
    }
   ],
   "source": [
    "#[Que.24].Extract all digits from a string.\n",
    "\n",
    "def extract_digit(text):\n",
    "      # Step 1: Initialize an empty string to store the extracted digits.\n",
    "    digits = \"\"\n",
    "    \n",
    "     # Step 2: Iterate through each character in the text.\n",
    "    for char in text:\n",
    "        # Check if the character is a digit using the isdigit() method.\n",
    "        if char.isdigit():\n",
    "              # Append the digit to the digits string.\n",
    "            digits += char\n",
    "    \n",
    "    # Step 3: Return the extracted digits.\n",
    "    return digits\n",
    "\n",
    "\n",
    "# Example usage\n",
    "text = \"Hello2321World321\"\n",
    "extracted_digit = extract_digit(text)\n",
    "print(\"Extracted digits:\", extracted_digit)"
   ]
  },
  {
   "cell_type": "code",
   "execution_count": 12,
   "id": "d515a1eb-ab55-4d37-aec0-92fabf6b33a8",
   "metadata": {},
   "outputs": [
    {
     "name": "stdout",
     "output_type": "stream",
     "text": [
      "H e l l o W o r l d\n"
     ]
    }
   ],
   "source": [
    "#[Que.25].Extract all alphabets from a string.\n",
    "\n",
    "def extract_alphabets(input_string):\n",
    "    alphabets = ' '.join([char for char in input_string if char.isalpha()])\n",
    "    return alphabets\n",
    "\n",
    "# Example input string\n",
    "input_string = \"Hello0343World4543\"\n",
    "result = extract_alphabets(input_string)\n",
    "print(result)"
   ]
  },
  {
   "cell_type": "code",
   "execution_count": 13,
   "id": "f4360443-98d9-4d29-936f-e90aa8025a78",
   "metadata": {},
   "outputs": [
    {
     "name": "stdout",
     "output_type": "stream",
     "text": [
      "6\n"
     ]
    }
   ],
   "source": [
    "#[Que.26].Count the number of uppercase letters in a string.\n",
    "\n",
    "def count_uppercase(input_string):\n",
    "    uppercase_count = sum(1 for char in input_string if char.isupper())\n",
    "    return uppercase_count\n",
    "\n",
    "# Example input string\n",
    "input_string = \"HelloWORLD\"\n",
    "result =count_uppercase(input_string)\n",
    "print(result)"
   ]
  },
  {
   "cell_type": "code",
   "execution_count": 15,
   "id": "5ce3c2c6-cce6-4234-b75d-ff818f4629a9",
   "metadata": {},
   "outputs": [
    {
     "name": "stdout",
     "output_type": "stream",
     "text": [
      "4\n"
     ]
    }
   ],
   "source": [
    "#[Que.27].COunt the number of lowercase in a string.\n",
    "\n",
    "def count_lowercase(input_string):\n",
    "    lowercase_count =sum(1 for char in input_string if char.islower())\n",
    "    return lowercase_count\n",
    "\n",
    "\n",
    "# Example input string\n",
    "input_string = \"HelloWOELD\"\n",
    "result = count_lowercase(input_string)\n",
    "print(result)"
   ]
  },
  {
   "cell_type": "code",
   "execution_count": 16,
   "id": "6aac8cf7-fc17-485d-b073-9947eef9e887",
   "metadata": {},
   "outputs": [
    {
     "name": "stdout",
     "output_type": "stream",
     "text": [
      "hELLOworld\n"
     ]
    }
   ],
   "source": [
    "#[Que.28]. Swap the case of each character in a string.\n",
    "\n",
    "def swap_case(input_string):\n",
    "    swapped_string = input_string.swapcase()\n",
    "    return swapped_string\n",
    "\n",
    "\n",
    "# Example input string\n",
    "input_string = \"HelloWORLD\"\n",
    "result = swap_case(input_string)\n",
    "print(result)"
   ]
  },
  {
   "cell_type": "code",
   "execution_count": 17,
   "id": "c095fd01-8405-483e-94bb-080137e3eb30",
   "metadata": {},
   "outputs": [
    {
     "name": "stdout",
     "output_type": "stream",
     "text": [
      "Hello world, welcome to the of programming.\n"
     ]
    }
   ],
   "source": [
    "#[Que.29].Remove a specific word from a string.\n",
    "\n",
    "def remove_word(input_string, word_remove):\n",
    "    words = input_string.split()  # Split the input string into a list of words\n",
    "    filtered_words = [word for word in words if word != word_remove] # Create a new list excluding the word to remove\n",
    "    modified_string = ' '.join(filtered_words) # Join the filtered words back into a string\n",
    "    return modified_string\n",
    "\n",
    "# Example input string and word to remove\n",
    "input_string = \"Hello world, welcome to the world of programming.\"\n",
    "word_to_remove = \"world\"\n",
    "result = remove_word(input_string, word_to_remove)\n",
    "print(result)"
   ]
  },
  {
   "cell_type": "code",
   "execution_count": 18,
   "id": "03351d26-f152-4165-907a-1e6b290e39f4",
   "metadata": {},
   "outputs": [
    {
     "name": "stdout",
     "output_type": "stream",
     "text": [
      "True\n",
      "False\n"
     ]
    }
   ],
   "source": [
    "#[Que.30].Check if a string is a valid email address.\n",
    "\n",
    "import re  # Import the regular expression module\n",
    "\n",
    "def is_valid_email(email):\n",
    "    pattern = r'^[\\w\\.-]+@[\\w\\.-]+\\.\\w+$'  # Regular expression pattern for a basic email validation\n",
    "    if re.match(pattern, email):\n",
    "        return True\n",
    "    else:\n",
    "        return False\n",
    " \n",
    " # Example email addresses\n",
    "email1 = \"abhishek@email.com\"\n",
    "email2 = \"invalid-email\"\n",
    "result1 = is_valid_email(email1)\n",
    "result2 = is_valid_email(email2)\n",
    "print(result1)\n",
    "print(result2)\n"
   ]
  },
  {
   "cell_type": "code",
   "execution_count": 19,
   "id": "468805e4-a9ea-4279-82e3-6eb62d5a05d3",
   "metadata": {},
   "outputs": [
    {
     "name": "stdout",
     "output_type": "stream",
     "text": [
      "abuishrek\n"
     ]
    }
   ],
   "source": [
    "#[Que.31]. Extract the username from an email address string.\n",
    "\n",
    "def extract_username(email):\n",
    "    username = email.split('@')[0]  # Split the email address at \"@\" and take the first part\n",
    "    return username\n",
    "\n",
    "# Example email address\n",
    "email = \"abuishrek@email.com\"\n",
    "result = extract_username(email)\n",
    "print(result)"
   ]
  },
  {
   "cell_type": "code",
   "execution_count": 48,
   "id": "4b19d68f-af68-436a-ab58-dfd330ff109d",
   "metadata": {},
   "outputs": [
    {
     "name": "stdout",
     "output_type": "stream",
     "text": [
      "email.com\n"
     ]
    }
   ],
   "source": [
    "#[Que.32]. Extract the domain name from an email address string.\n",
    "\n",
    "def extract_domain(email):\n",
    "    domain = email.split('@')[1] # Split the email address at \"@\" and take the second part\n",
    "    return domain\n",
    "\n",
    "# Example email address\n",
    "email = \"abhishek@email.com\"\n",
    "result = extract_domain(email)\n",
    "print(result)"
   ]
  },
  {
   "cell_type": "code",
   "execution_count": 20,
   "id": "b0fc9314-a006-4910-a793-3fa161d85e38",
   "metadata": {},
   "outputs": [
    {
     "name": "stdout",
     "output_type": "stream",
     "text": [
      "Hello world! how are you ?\n"
     ]
    }
   ],
   "source": [
    "#[Que.33]. Replace multiple spaces in a string with a single space.\n",
    "\n",
    "def replace_multiple_spaces(input_string):\n",
    "    cleaned_string = ' '. join(input_string.split()) # Split the string at spaces and then join using a single space\n",
    "    return cleaned_string\n",
    "\n",
    "# Example input string with multiple spaces\n",
    "input_string = \"   Hello   world!          how   are    you  ?\"\n",
    "result = replace_multiple_spaces(input_string)\n",
    "print(result)"
   ]
  },
  {
   "cell_type": "code",
   "execution_count": 21,
   "id": "e553e1d6-0c40-40a1-8c10-c54332881115",
   "metadata": {},
   "outputs": [
    {
     "name": "stdout",
     "output_type": "stream",
     "text": [
      "True\n",
      "False\n"
     ]
    }
   ],
   "source": [
    "#[Que.34].Check if a string is a valid URL.\n",
    "\n",
    "from urllib.parse import urlparse\n",
    "\n",
    "def is_valid_url(url):\n",
    "    try:\n",
    "        result = urlparse(url)\n",
    "        return all([result.scheme, result.netloc])  # Check if both scheme and netloc are present\n",
    "    except ValueError:\n",
    "        return False\n",
    " \n",
    " # Example URLs\n",
    "url1 = \"https://www.example.com\"\n",
    "url2 = \"invalid-url\"\n",
    "result1 = is_valid_url(url1)\n",
    "result2 = is_valid_url(url2)\n",
    "print(result1) # Should print True\n",
    "print(result2) # Should print False"
   ]
  },
  {
   "cell_type": "code",
   "execution_count": 22,
   "id": "b28eb609-6326-4f2c-9043-563dc15027ab",
   "metadata": {},
   "outputs": [
    {
     "name": "stdout",
     "output_type": "stream",
     "text": [
      "Protocol 1: https\n",
      "Protocol 2: http\n",
      "Prptocol 3: ftp\n"
     ]
    }
   ],
   "source": [
    "#[Que.35].Extract the protocol (http or https) from a URL string.\n",
    "\n",
    "def extract_protocol(url):\n",
    "      # Find the index of the first occurrence of \"://\"\n",
    "    protocol_end = url.find(\"://\")\n",
    "    \n",
    "    if protocol_end!= -1:\n",
    "        # Extract the protocol from the URL\n",
    "        protocol = url[:protocol_end]\n",
    "        return protocol\n",
    "    else:\n",
    "        return None\n",
    "    \n",
    " # Example URL strings\n",
    "url1 = \"https://www.example.com\"\n",
    "url2 = \"http://google.com\"\n",
    "url3 = \"ftp://ftp.example.com\"\n",
    "\n",
    "# Extract protocols\n",
    "protocol1 =extract_protocol(url1)\n",
    "protocol2 = extract_protocol(url2)\n",
    "protocol3 = extract_protocol(url3)\n",
    "\n",
    "# Print extracted protocols\n",
    "print(\"Protocol 1:\", protocol1)\n",
    "print(\"Protocol 2:\", protocol2)\n",
    "print(\"Prptocol 3:\", protocol3)"
   ]
  },
  {
   "cell_type": "code",
   "execution_count": 23,
   "id": "aedf847b-3d8f-4548-bff3-6b19ed583608",
   "metadata": {},
   "outputs": [
    {
     "name": "stdout",
     "output_type": "stream",
     "text": [
      "Character: 'h', Frequency: 1\n",
      "Character: 'e', Frequency: 1\n",
      "Character: 'l', Frequency: 3\n",
      "Character: 'o', Frequency: 2\n",
      "Character: ' ', Frequency: 1\n",
      "Character: 'w', Frequency: 1\n",
      "Character: 'r', Frequency: 1\n",
      "Character: 'd', Frequency: 1\n"
     ]
    }
   ],
   "source": [
    "#[Que.36].Find the frequency of each character in a string.\n",
    "\n",
    "def character_frequency(input_string):\n",
    "    frequency = {}  # Create an empty dictionary to store character frequencies\n",
    "    \n",
    "    for char in input_string:\n",
    "        if char in frequency:\n",
    "            frequency[char] += 1   # Increment the frequency count if the character is already in the dictionary\n",
    "        else:\n",
    "            frequency[char] = 1    # Initialize the frequency count to 1 if the character is not in the dictionary\n",
    "            \n",
    "    return frequency\n",
    "    \n",
    "input_str = \"hello world\"\n",
    "\n",
    "# Calculate character frequencies\n",
    "char_freq = character_frequency(input_str)\n",
    "\n",
    "# Print character frequencies\n",
    "for char, freq in char_freq.items():\n",
    "    print(f\"Character: '{char}', Frequency: {freq}\")"
   ]
  },
  {
   "cell_type": "code",
   "execution_count": 28,
   "id": "9973b362-8cbe-4ea1-92c0-eb9953cbe0f2",
   "metadata": {},
   "outputs": [
    {
     "name": "stdout",
     "output_type": "stream",
     "text": [
      "Original string: Hello, world! How's it going?\n",
      "cleaned string: Hello world Hows it going\n"
     ]
    }
   ],
   "source": [
    "#[Que.37].Remove all punctuation from a string.\n",
    "\n",
    "import string\n",
    "\n",
    "def remove_punctuation(input_string):\n",
    "     # Create a translation table to remove punctuation\n",
    "    translator = str.maketrans(\"\", \"\", string.punctuation)\n",
    "    \n",
    "    # Use the translation table to remove punctuation from the input string\n",
    "    clean_string = input_string.translate(translator)\n",
    "    \n",
    "    return clean_string\n",
    "\n",
    "# Example string with punctuation\n",
    "input_str = \"Hello, world! How's it going?\"\n",
    "\n",
    "# Remove punctuation\n",
    "cleaned_str = remove_punctuation(input_str)\n",
    "\n",
    "# Print the cleaned string\n",
    "print(\"Original string:\", input_str)\n",
    "print(\"cleaned string:\", cleaned_str)"
   ]
  },
  {
   "cell_type": "code",
   "execution_count": 29,
   "id": "cb839ee7-c0ca-4a33-a55f-aacf161b9cec",
   "metadata": {},
   "outputs": [
    {
     "name": "stdout",
     "output_type": "stream",
     "text": [
      "'12345' contains only digits: True\n",
      "'Hello1234' contains only digits: False\n",
      "'423.234' contains only digits: False\n"
     ]
    }
   ],
   "source": [
    "#[Que.38].Check if a string contains only digits.\n",
    "\n",
    "def contains_only_digits(input_string):\n",
    "    # Check if all characters in the string are digits\n",
    "    return input_string.isdigit()\n",
    "\n",
    "# Example strings\n",
    "string1 = \"12345\"\n",
    "string2 = \"Hello1234\"\n",
    "string3= \"423.234\"\n",
    "\n",
    "# Check if strings contain only digits\n",
    "result1 = contains_only_digits(string1)\n",
    "result2 = contains_only_digits(string2)\n",
    "result3 = contains_only_digits(string3)\n",
    "\n",
    "# Print the results\n",
    "print(f\"'{string1}' contains only digits:\", result1)\n",
    "print(f\"'{string2}' contains only digits:\", result2)\n",
    "print(f\"'{string3}' contains only digits:\", result3)"
   ]
  },
  {
   "cell_type": "code",
   "execution_count": 30,
   "id": "2d306ffc-51fd-4a68-bb33-da742c6a5bd6",
   "metadata": {},
   "outputs": [
    {
     "name": "stdout",
     "output_type": "stream",
     "text": [
      "'Hello' contains only alphabets: True\n",
      "'Hello342' contains only alphabets: False\n",
      "'12345' contains only alphabets: False\n"
     ]
    }
   ],
   "source": [
    "#[Que.39].Check if a string contains only alphabets.\n",
    "\n",
    "def contains_only_alphabets(input_string):\n",
    "     # Check if all characters in the string are alphabetic\n",
    "    return input_string.isalpha()\n",
    "\n",
    "# Example strings\n",
    "string1 = \"Hello\"\n",
    "string2 = \"Hello342\"\n",
    "string3 = \"12345\"\n",
    "\n",
    "# Check if strings contain only alphabets\n",
    "result1 = contains_only_alphabets(string1)\n",
    "result2 = contains_only_alphabets(string2)\n",
    "result3 = contains_only_alphabets(string3)\n",
    "\n",
    "# Print the results\n",
    "print(f\"'{string1}' contains only alphabets:\", result1)\n",
    "print(f\"'{string2}' contains only alphabets:\", result2)\n",
    "print(f\"'{string3}' contains only alphabets:\", result3)\n"
   ]
  },
  {
   "cell_type": "code",
   "execution_count": 31,
   "id": "03f55741-1167-42f1-bf64-c734a7dd43ab",
   "metadata": {},
   "outputs": [
    {
     "name": "stdout",
     "output_type": "stream",
     "text": [
      "Original string: Hello, world!\n",
      "List of character ['H', 'e', 'l', 'l', 'o', ',', ' ', 'w', 'o', 'r', 'l', 'd', '!']\n"
     ]
    }
   ],
   "source": [
    "#[Que.40].Convert a string to a list of character.\n",
    "\n",
    "def string_to_list(input_string):\n",
    "    # Use list() constructor to convert the string to a list of characters\n",
    "    char_list = list(input_string)\n",
    "    return char_list\n",
    "\n",
    "# Example string\n",
    "input_str = \"Hello, world!\"\n",
    "\n",
    "# Convert the string to a list of characters\n",
    "char_list = string_to_list(input_str)\n",
    "\n",
    "# Print the list of characters\n",
    "print(\"Original string:\", input_str)\n",
    "print(\"List of character\", char_list)"
   ]
  },
  {
   "cell_type": "code",
   "execution_count": 32,
   "id": "aa2ade3d-e476-41cd-b1b7-517ae9a48fe1",
   "metadata": {},
   "outputs": [
    {
     "name": "stdout",
     "output_type": "stream",
     "text": [
      "'listen' and 'silent' are anagrams: True\n",
      "'hello' and 'world' are anagrams: False\n"
     ]
    }
   ],
   "source": [
    "#[Que.41].Check if two strings are anagrams.\n",
    "\n",
    "def are_anagrams(str1, str2):\n",
    "      # Remove spaces and convert strings to lowercase for accurate comparison\n",
    "    str1 = str1.replace(\" \", \"\").lower()\n",
    "    str2 = str2.replace(\" \", \"\").lower()\n",
    "    \n",
    "     # Sort the characters in both strings and compare\n",
    "    return sorted(str1) == sorted(str2)\n",
    "\n",
    "\n",
    "# Example strings\n",
    "string1 = \"listen\"\n",
    "string2 = \"silent\"\n",
    "string3 = \"hello\"\n",
    "string4 = \"world\"\n",
    "\n",
    "# Check if strings are anagrams\n",
    "result1 = are_anagrams(string1, string2)\n",
    "result2 = are_anagrams(string3, string4)\n",
    "\n",
    "# Print the results\n",
    "print(f\"'{string1}' and '{string2}' are anagrams:\", result1)\n",
    "print(f\"'{string3}' and '{string4}' are anagrams:\", result2)\n",
    "\n"
   ]
  },
  {
   "cell_type": "code",
   "execution_count": 33,
   "id": "b45a2cae-63b7-4b8d-9746-64628d896343",
   "metadata": {},
   "outputs": [
    {
     "name": "stdout",
     "output_type": "stream",
     "text": [
      "Encoded text: ehoor, zruog!\n"
     ]
    }
   ],
   "source": [
    "#[Que.42].Encode a string using a Caesar cipher.\n",
    "\n",
    "# Define a function named caesar_cipher that encodes a string using a Caesar cipher.\n",
    "def caesar_cipher(text, shift):\n",
    "    \"\"\"\n",
    "  Encodes a string using a Caesar cipher.\n",
    "\n",
    "  Args:\n",
    "    text: The string to encode.\n",
    "    shift: The number of positions to shift each letter.\n",
    "\n",
    "  Returns:\n",
    "    The encoded string.\n",
    "  \"\"\"\n",
    "    \n",
    "    \n",
    "  # Initialize an empty string to store the encoded text.\n",
    "    encoded_text = \"\"\n",
    "    \n",
    "     # Iterate through each character in the input text.\n",
    "    for char in text:\n",
    "           # Check if the character is alphabetic.\n",
    "        if char.isalpha():\n",
    "             # Calculate the encoded character's Unicode code point value by shifting it by the specified amount.\n",
    "      # Ensure the value wraps around within the lowercase alphabet range (a-z).\n",
    "            encoded_char = chr((ord(char) + shift - ord('a')) % 26 + ord('a'))\n",
    "        else:\n",
    "           # Keep non-alphabetic characters unchanged. \n",
    "            encoded_char = char\n",
    "         \n",
    "         # Add the encoded character to the encoded text.\n",
    "        encoded_text += encoded_char\n",
    "     \n",
    "      # Return the resulting encoded text.\n",
    "    return encoded_text\n",
    "\n",
    "# Define the input text and the shift value for encoding.\n",
    "text = \"Hello, world!\"\n",
    "shift = 3\n",
    "\n",
    "# Call the caesar_cipher function to encode the text using the specified shift.\n",
    "encoded_text = caesar_cipher(text, shift)\n",
    "\n",
    "# Print the encoded text.\n",
    "print(\"Encoded text:\", encoded_text)\n",
    "\n"
   ]
  },
  {
   "cell_type": "code",
   "execution_count": 14,
   "id": "3aeeeae1-3faa-422b-93cc-aa108ecafb35",
   "metadata": {},
   "outputs": [
    {
     "name": "stdout",
     "output_type": "stream",
     "text": [
      "Decoded text: ilmm, world!\n"
     ]
    }
   ],
   "source": [
    "#[Que.43].Decode a  caesar cipher encoded string.\n",
    "\n",
    "def caesar_cipher_decoder(text, shift):\n",
    "    \n",
    "    decoded_text = \"\"\n",
    "    \n",
    "    for char in text:\n",
    "        if char.isalpha():\n",
    "            decoded_char = chr((ord(char) - shift - ord('a')) % 26 + ord('a'))\n",
    "        else:\n",
    "            \n",
    "            decoded_char = char\n",
    "            \n",
    "        decoded_text += decoded_char\n",
    "        \n",
    "    return decoded_text\n",
    "\n",
    "text = \"lopp, zruog!\"\n",
    "shift = 3\n",
    "\n",
    "decoded_text = caesar_cipher_decoder(text, shift)\n",
    "\n",
    "print(\"Decoded text:\", decoded_text)"
   ]
  },
  {
   "cell_type": "code",
   "execution_count": 28,
   "id": "053c4f41-f5ff-4c35-9e4d-c0a8e8f0c48a",
   "metadata": {},
   "outputs": [
    {
     "name": "stdout",
     "output_type": "stream",
     "text": [
      "Most frequent word: hello\n"
     ]
    }
   ],
   "source": [
    "#[Que.44].Find the most frequent word in a string.\n",
    "\n",
    "import re\n",
    "from collections import Counter\n",
    "\n",
    "def most_frequent_word(input_string):\n",
    "    \n",
    "    clean_string = re.sub(r'[^\\w\\s]', '', input_string).lower()\n",
    "    \n",
    "    words = clean_string.split()\n",
    "    word_counter = Counter(words)\n",
    "    \n",
    "    most_common_word = word_counter.most_common(1)[0][0]\n",
    "    \n",
    "    return most_common_word\n",
    "    \n",
    "    \n",
    "input_str = \"Hello world, hello there! How's the world?\"\n",
    "most_common = most_frequent_word(input_str)\n",
    "print(\"Most frequent word:\", most_common)"
   ]
  },
  {
   "cell_type": "code",
   "execution_count": 34,
   "id": "ea937fbb-fc80-4a12-bf83-3648470c3462",
   "metadata": {},
   "outputs": [
    {
     "name": "stdout",
     "output_type": "stream",
     "text": [
      "Unique words: {'the', 'hello', 'hows', 'world', 'there'}\n"
     ]
    }
   ],
   "source": [
    "#[Que.45].Find all unique words in a string.\n",
    "\n",
    "import re\n",
    "\n",
    "def unique_words(input_string):\n",
    "    # Remove punctuation and convert to lowercase\n",
    "    clean_string = re.sub(r'[^\\w\\s]', '', input_string).lower()\n",
    "    \n",
    "    # Split the string into words and convert to a set for uniqueness\n",
    "    words = set(clean_string.split())\n",
    "    \n",
    "    return words\n",
    "\n",
    "# Example string\n",
    "input_str = \"Hello world, hello there! How's the world?\"\n",
    "\n",
    "# Find unique words\n",
    "unique_words_set = unique_words(input_str)\n",
    "\n",
    "# Print the result\n",
    "print(\"Unique words:\", unique_words_set)\n",
    "\n"
   ]
  },
  {
   "cell_type": "code",
   "execution_count": 43,
   "id": "d4c912b4-9302-48ad-952d-e51cf263969d",
   "metadata": {},
   "outputs": [
    {
     "name": "stdout",
     "output_type": "stream",
     "text": [
      "'hello' has 2 syllables.\n",
      "'banana' has 3 syllables.\n",
      "'syllable' has 2 syllables.\n"
     ]
    }
   ],
   "source": [
    "#[Que.46].Count the number of syllables in a string.\n",
    "\n",
    "import re\n",
    "\n",
    "def count_syllables(word):\n",
    "     # Count vowel groups using regular expression\n",
    "    vowel_groups = re.findall(r'[aeiou]+', word, re.IGNORECASE)\n",
    "    \n",
    "    return len(vowel_groups)\n",
    "\n",
    "word1 = \"hello\"\n",
    "word2 = \"banana\"\n",
    "word3 = \"syllable\"\n",
    "\n",
    "# Count syllables\n",
    "syllables1 = count_syllables(word1)\n",
    "syllables2 = count_syllables(word2)\n",
    "syllables3 = count_syllables(word3)\n",
    "\n",
    "# Print the results\n",
    "print(f\"'{word1}' has {syllables1} syllables.\")\n",
    "print(f\"'{word2}' has {syllables2} syllables.\")\n",
    "print(f\"'{word3}' has {syllables3} syllables.\")\n",
    "\n"
   ]
  },
  {
   "cell_type": "code",
   "execution_count": 41,
   "id": "4247ba42-6d01-4860-8ac6-b60c6f1a5389",
   "metadata": {},
   "outputs": [
    {
     "name": "stdout",
     "output_type": "stream",
     "text": [
      "'<module 'string' from '/opt/conda/lib/python3.10/string.py'>' contains special characters: True\n",
      "'<module 'string' from '/opt/conda/lib/python3.10/string.py'>' contains special characters: True\n",
      "'<module 'string' from '/opt/conda/lib/python3.10/string.py'>' contains special characters: True\n"
     ]
    }
   ],
   "source": [
    "#[Que.47].Check if a string contains any special characters.\n",
    "\n",
    "import re\n",
    "\n",
    "def contains_special_characters(input_string):\n",
    "     # Define a regular expression pattern to match special characters\n",
    "    pattern = re.compile(r'[!@#$%^&*()_+{}\\[\\]:;<>,.?~\\\\/]')\n",
    "    \n",
    "      # Use the search() method to find a match\n",
    "    match = pattern.search(input_string)\n",
    "    \n",
    "    # Return True if a match is found, False otherwise\n",
    "    return bool(match)\n",
    "\n",
    "# Example strings\n",
    "string1 = \"Hello, world!\"\n",
    "string2 = \"This is a test.\"\n",
    "string3 = \"Special@Characters\"\n",
    "\n",
    "# Check if strings contain special characters\n",
    "result1 = contains_special_characters(string1)\n",
    "result2 = contains_special_characters(string2)\n",
    "result3 = contains_special_characters(string3)\n",
    "\n",
    "# Print the results\n",
    "print(f\"'{string}' contains special characters:\", result1)\n",
    "print(f\"'{string}' contains special characters:\", result2)\n",
    "print(f\"'{string}' contains special characters:\", result3)\n",
    "\n"
   ]
  },
  {
   "cell_type": "code",
   "execution_count": 42,
   "id": "dd8f3835-5be9-4fa2-a707-fec4a21837f5",
   "metadata": {},
   "outputs": [
    {
     "name": "stdout",
     "output_type": "stream",
     "text": [
      "Original string: This is an example sentence to test the function.\n",
      "Modified string: This is an sentence to test the function.\n",
      "Removed word: example\n"
     ]
    }
   ],
   "source": [
    "#[Que.48].Remove the nth word from a string.\n",
    "\n",
    "def remove_nth_word(input_string, n):\n",
    "      # Split the input string into words\n",
    "    words = input_string.split()\n",
    "    \n",
    "      # Check if n is within a valid range\n",
    "    if n >= 1 and n <= len(words):\n",
    "        removed_word = words.pop(n-1)\n",
    "          # Join the remaining words to form the modified string\n",
    "        modified_string = ' '.join(words)\n",
    "        \n",
    "        return modified_string, removed_word\n",
    "    else:\n",
    "        return None, None\n",
    "    \n",
    "input_str = \"This is an example sentence to test the function.\"\n",
    "n_value = 4\n",
    "\n",
    "# Remove the nth word\n",
    "modified_str, removed_word = remove_nth_word(input_str, n_value)\n",
    "\n",
    "# Print the results\n",
    "print(\"Original string:\", input_str)\n",
    "if modified_str is not None:\n",
    "    print(\"Modified string:\", modified_str)\n",
    "    print(\"Removed word:\", removed_word)\n",
    "else:\n",
    "    print(\"Invalid n value.\")"
   ]
  },
  {
   "cell_type": "code",
   "execution_count": 40,
   "id": "db826790-c387-4666-a4a1-f5799f48ed45",
   "metadata": {},
   "outputs": [],
   "source": [
    "#[Que.49].\n"
   ]
  },
  {
   "cell_type": "code",
   "execution_count": 41,
   "id": "753f4f92-1a9d-406c-9956-1855eb3968af",
   "metadata": {},
   "outputs": [
    {
     "name": "stdout",
     "output_type": "stream",
     "text": [
      "['Name', ' Age', ' Country']\n",
      "['John', ' 25', ' USA']\n",
      "['Alice', ' 30', ' Canada']\n",
      "['Bob', ' 22', 'UK']\n"
     ]
    }
   ],
   "source": [
    "#[Que.50].Convert a CSV string to a list of lists.\n",
    "\n",
    "def csv_string_to_list(csv_string):\n",
    "    lines = csv_string.split('\\n')\n",
    "    \n",
    "    result = []\n",
    "    \n",
    "    for line in lines:\n",
    "        fields = line.split(',')\n",
    "        \n",
    "        result.append(fields)\n",
    "    \n",
    "    return result\n",
    "\n",
    "csv_data = \"Name, Age, Country\\nJohn, 25, USA\\nAlice, 30, Canada\\nBob, 22,UK\"\n",
    "\n",
    "list_of_lists = csv_string_to_list(csv_data)\n",
    "\n",
    "for row in list_of_lists:\n",
    "    print(row)"
   ]
  },
  {
   "cell_type": "code",
   "execution_count": 42,
   "id": "c5bfcbea-93a1-4d4f-bf72-ce4112dcd7d6",
   "metadata": {},
   "outputs": [],
   "source": [
    "# LIST BASED PRACTICE PROBLEM :-"
   ]
  },
  {
   "cell_type": "code",
   "execution_count": 44,
   "id": "59f336cc-994f-4309-b12d-6a7c4a4fbd2f",
   "metadata": {},
   "outputs": [
    {
     "name": "stdout",
     "output_type": "stream",
     "text": [
      "[1, 2, 3, 4, 5, 6, 7, 8, 9, 10]\n"
     ]
    }
   ],
   "source": [
    "#[Que.1].Create a list with integers from 1 to 10.\n",
    "\n",
    "# Use a list comprehension to create a list of integers from 1 to 10\n",
    "integer_list = [i for i in range(1, 11)]\n",
    "\n",
    "\n",
    "# Print the list\n",
    "print(integer_list)\n"
   ]
  },
  {
   "cell_type": "code",
   "execution_count": 45,
   "id": "5c2ff8e2-1cb3-48f4-a0b2-91ad5446f9ed",
   "metadata": {},
   "outputs": [
    {
     "name": "stdout",
     "output_type": "stream",
     "text": [
      "Length of the list: 5\n"
     ]
    }
   ],
   "source": [
    "#[Que.2].Find the length of a list without using the `len()` function.\n",
    "\n",
    "def custom_len(input_list):\n",
    "    count = 0\n",
    "    for _ in input_list:\n",
    "        count += 1\n",
    "    return count\n",
    "\n",
    "my_list = [10, 20, 30, 40, 50]\n",
    "\n",
    "# Find the length of the list using the custom_len function\n",
    "length = custom_len(my_list)\n",
    "\n",
    "# Print the length of the list\n",
    "print(\"Length of the list:\", length)\n",
    "\n"
   ]
  },
  {
   "cell_type": "code",
   "execution_count": 46,
   "id": "b3d6f405-5174-468b-8bf3-3daa4e672d27",
   "metadata": {},
   "outputs": [
    {
     "name": "stdout",
     "output_type": "stream",
     "text": [
      "Updated list: [10, 20, 30, 40]\n"
     ]
    }
   ],
   "source": [
    "#[Que.3].Append an element to the end of a list.\n",
    "\n",
    "# Example list\n",
    "my_list = [10, 20, 30]\n",
    "\n",
    "# Element to append\n",
    "new_element = 40\n",
    "\n",
    "# Append the new element to the end of the list\n",
    "my_list.append(new_element)\n",
    "\n",
    "# Print the updated list\n",
    "print(\"Updated list:\", my_list)\n",
    "\n"
   ]
  },
  {
   "cell_type": "code",
   "execution_count": 46,
   "id": "b3081867-603d-4223-9c64-7adcdd0937ad",
   "metadata": {},
   "outputs": [
    {
     "name": "stdout",
     "output_type": "stream",
     "text": [
      "Updated list: [10, 20, 25, 30, 40, 50]\n"
     ]
    }
   ],
   "source": [
    "#[Que.4]. Insert an element at a specific index in a list.\n",
    "\n",
    "my_list = [10, 20, 30, 40, 50]\n",
    "\n",
    "new_element = 25\n",
    "\n",
    "index_to_insert = 2\n",
    "\n",
    "my_list.insert(index_to_insert, new_element)\n",
    "\n",
    "print(\"Updated list:\", my_list)"
   ]
  },
  {
   "cell_type": "code",
   "execution_count": 47,
   "id": "a2354ab5-63eb-4313-91ed-51e131bde6dd",
   "metadata": {},
   "outputs": [
    {
     "name": "stdout",
     "output_type": "stream",
     "text": [
      "Updated list: [10, 20, 40, 50]\n"
     ]
    }
   ],
   "source": [
    "#[Que.5]. Remove an element from a list by its value.\n",
    "\n",
    "my_list = [10, 20, 30, 40, 50]\n",
    "\n",
    "element_to_remove = 30\n",
    "\n",
    "my_list.remove(element_to_remove)\n",
    "\n",
    "print(\"Updated list:\", my_list)"
   ]
  },
  {
   "cell_type": "code",
   "execution_count": 48,
   "id": "a8760f6b-3b34-4df8-a950-e81b31f9ee94",
   "metadata": {},
   "outputs": [
    {
     "name": "stdout",
     "output_type": "stream",
     "text": [
      "Updated list: [10, 20, 30, 50]\n",
      "Removed element: 40\n"
     ]
    }
   ],
   "source": [
    "#[Que.6].Remove an element from a list by its index.\n",
    "\n",
    "my_list = [10, 20, 30, 40, 50]\n",
    "\n",
    "index_to_remove = 3\n",
    "\n",
    "removed_element = my_list.pop(index_to_remove)\n",
    "\n",
    "print(\"Updated list:\", my_list)\n",
    "print(\"Removed element:\", removed_element)"
   ]
  },
  {
   "cell_type": "code",
   "execution_count": 49,
   "id": "1e499964-99b9-4f1f-bbbb-4b3180780de7",
   "metadata": {},
   "outputs": [
    {
     "name": "stdout",
     "output_type": "stream",
     "text": [
      "40 exists in the list.\n"
     ]
    }
   ],
   "source": [
    "#[Que.7].Check if an element exists in a list.\n",
    "\n",
    "my_list = [10, 20, 30, 40, 50]\n",
    "\n",
    "element_to_check = 40\n",
    "\n",
    "if element_to_check in my_list:\n",
    "    print(f\"{element_to_check} exists in the list.\")\n",
    "    \n",
    "else :\n",
    "    print(f\"{element_to_check} does not exits in the list.\")\n",
    "    "
   ]
  },
  {
   "cell_type": "code",
   "execution_count": 2,
   "id": "732ef157-ba62-428d-8abc-d2150ea35a96",
   "metadata": {},
   "outputs": [
    {
     "name": "stdout",
     "output_type": "stream",
     "text": [
      "The index of 40 is 3\n"
     ]
    }
   ],
   "source": [
    "#[Que.8].Find the index of the first occurrence of an element in a list.\n",
    "\n",
    "my_list = [10, 20, 30, 40, 50, 20]\n",
    "\n",
    "element_to_find = 40\n",
    "\n",
    "index = my_list.index(element_to_find)\n",
    "\n",
    "print(f\"The index of {element_to_find} is {index}\")\n"
   ]
  },
  {
   "cell_type": "code",
   "execution_count": 3,
   "id": "49aecb6e-0c94-4f24-bb41-10d9e49eed2e",
   "metadata": {},
   "outputs": [
    {
     "name": "stdout",
     "output_type": "stream",
     "text": [
      "The element 30 occurs 3 times in the list.\n"
     ]
    }
   ],
   "source": [
    "#[Que.9] Count the occurrences of an element in a list.\n",
    "\n",
    "my_list = [10, 20, 30, 40, 50, 30, 30]\n",
    "\n",
    "element_to_count = 30\n",
    "\n",
    "count = my_list.count(element_to_count)\n",
    "\n",
    "print(f\"The element {element_to_count} occurs {count} times in the list.\")\n"
   ]
  },
  {
   "cell_type": "code",
   "execution_count": 2,
   "id": "cbc5a25e-3c16-43ac-be1a-0db1b8986fdc",
   "metadata": {},
   "outputs": [
    {
     "name": "stdout",
     "output_type": "stream",
     "text": [
      "Reversed list: [50, 40, 30, 20, 10]\n"
     ]
    }
   ],
   "source": [
    "#[Que.10] Reverse the order of elements in a list.\n",
    "\n",
    "my_list = [10, 20, 30, 40, 50]\n",
    "\n",
    "my_list.reverse()\n",
    "\n",
    "print(\"Reversed list:\", my_list)"
   ]
  },
  {
   "cell_type": "code",
   "execution_count": 4,
   "id": "e027dd35-9144-46a6-90f8-b40cb9fd8c73",
   "metadata": {},
   "outputs": [
    {
     "name": "stdout",
     "output_type": "stream",
     "text": [
      "Sorted list in ascending order: [10, 20, 30, 40, 50, 60]\n"
     ]
    }
   ],
   "source": [
    "#[Que.11] Sort a list in ascending order.\n",
    "\n",
    "my_list = [50, 10, 60, 30, 40, 20]\n",
    "\n",
    "my_list.sort()\n",
    "\n",
    "print(\"Sorted list in ascending order:\", my_list)"
   ]
  },
  {
   "cell_type": "code",
   "execution_count": 5,
   "id": "839a9611-f6a7-4f11-8ee1-be7cc09e0be6",
   "metadata": {},
   "outputs": [
    {
     "name": "stdout",
     "output_type": "stream",
     "text": [
      "Sorted list in descending order: [60, 50, 40, 30, 20, 10]\n"
     ]
    }
   ],
   "source": [
    "#[Que.12] Sort a list in descending order.\n",
    "\n",
    "my_list = [50, 30, 20, 10, 40, 60]\n",
    "\n",
    "my_list.sort(reverse=True)\n",
    "\n",
    "print(\"Sorted list in descending order:\", my_list)\n"
   ]
  },
  {
   "cell_type": "code",
   "execution_count": 9,
   "id": "199b42af-12d0-4a70-9ad1-ca01790d126a",
   "metadata": {},
   "outputs": [
    {
     "name": "stdout",
     "output_type": "stream",
     "text": [
      "List of even numbers: [2, 4, 6, 8, 10, 12, 14, 16, 18, 20]\n"
     ]
    }
   ],
   "source": [
    "#[Que.13] Create a list of even numbers from 1 to 20.\n",
    "\n",
    "even_numbers = [x for x in range(2, 21, 2)]\n",
    "\n",
    "print(\"List of even numbers:\", even_numbers)"
   ]
  },
  {
   "cell_type": "code",
   "execution_count": 10,
   "id": "7cc65d69-2836-42f0-a155-eaa53cd1df46",
   "metadata": {},
   "outputs": [
    {
     "name": "stdout",
     "output_type": "stream",
     "text": [
      "List of odd numbers: [1, 3, 5, 7, 9, 11, 13, 15, 17, 19]\n"
     ]
    }
   ],
   "source": [
    "#[Que.14] Create a list of odd numbers from 1 to 20.\n",
    "\n",
    "odd_numbers = [x for x in range(1, 21, 2)]\n",
    "\n",
    "print(\"List of odd numbers:\", odd_numbers)"
   ]
  },
  {
   "cell_type": "code",
   "execution_count": 12,
   "id": "511ffd0a-f45c-4c8b-bbc9-973cd3c83242",
   "metadata": {},
   "outputs": [
    {
     "name": "stdout",
     "output_type": "stream",
     "text": [
      "Sum of elements: 150\n"
     ]
    }
   ],
   "source": [
    "#[Que.15] Find the sum of all elements in a list.\n",
    "\n",
    "my_list = [10, 20, 30, 40, 50]\n",
    "\n",
    "total_sum = sum(my_list)\n",
    "\n",
    "print(\"Sum of elements:\", total_sum)"
   ]
  },
  {
   "cell_type": "code",
   "execution_count": 13,
   "id": "eff698fc-1158-4545-981c-e0138b081ee1",
   "metadata": {},
   "outputs": [
    {
     "name": "stdout",
     "output_type": "stream",
     "text": [
      "Maximum value: 50\n"
     ]
    }
   ],
   "source": [
    "#[Que.16] Find the maximum value in a list.\n",
    "\n",
    "my_list = [10, 20, 30, 40, 50]\n",
    "\n",
    "max_value = max(my_list)\n",
    "\n",
    "print(\"Maximum value:\", max_value)"
   ]
  },
  {
   "cell_type": "code",
   "execution_count": 14,
   "id": "7cfaf914-9e76-4f82-813b-5a60ccc6c73d",
   "metadata": {},
   "outputs": [
    {
     "name": "stdout",
     "output_type": "stream",
     "text": [
      "Minimum value: 5\n"
     ]
    }
   ],
   "source": [
    "#[Que.17] Find the minimum value in list.\n",
    "\n",
    "my_list = [10, 20, 30, 40, 5]\n",
    "\n",
    "min_value = min(my_list)\n",
    "\n",
    "print(\"Minimum value:\", min_value)"
   ]
  },
  {
   "cell_type": "code",
   "execution_count": 17,
   "id": "71d1571c-0830-4da5-803d-f3597e0c9389",
   "metadata": {},
   "outputs": [
    {
     "name": "stdout",
     "output_type": "stream",
     "text": [
      "List of squares: [1, 4, 9, 16, 25, 36, 49, 64, 81, 100]\n"
     ]
    }
   ],
   "source": [
    "#[Que.18] Create a list of squares of numbers from 1 to 10.\n",
    "\n",
    "squares = [x ** 2 for x in range(1, 11)]\n",
    "\n",
    "print(\"List of squares:\", squares)"
   ]
  },
  {
   "cell_type": "code",
   "execution_count": 20,
   "id": "768aafc8-b78c-424e-8069-9c9ca1e74eed",
   "metadata": {},
   "outputs": [
    {
     "name": "stdout",
     "output_type": "stream",
     "text": [
      "List of random integers: [63, 21, 78, 99, 56, 98, 44, 15, 47, 18]\n"
     ]
    }
   ],
   "source": [
    "#[Que.19] Create a list of random numbers.\n",
    "\n",
    "import random\n",
    "\n",
    "random_integers = [random.randint(1, 100) for _ in range(10)]\n",
    "\n",
    "print(\"List of random integers:\", random_integers)"
   ]
  },
  {
   "cell_type": "code",
   "execution_count": 21,
   "id": "e3b7d609-3322-4339-908b-13f8a2ab1612",
   "metadata": {},
   "outputs": [
    {
     "name": "stdout",
     "output_type": "stream",
     "text": [
      "List without duplicates: [40, 10, 50, 20, 30]\n"
     ]
    }
   ],
   "source": [
    "#[Que.20] Remove duplicates from a list.\n",
    "\n",
    "my_list = [10, 20, 40, 30, 40, 50, 20]\n",
    "\n",
    "unique_list = list(set(my_list))\n",
    "\n",
    "print(\"List without duplicates:\", unique_list)"
   ]
  },
  {
   "cell_type": "code",
   "execution_count": 37,
   "id": "2c025e19-df00-4b17-8c22-783a36988ee0",
   "metadata": {},
   "outputs": [
    {
     "name": "stdout",
     "output_type": "stream",
     "text": [
      "{4, 5}\n"
     ]
    }
   ],
   "source": [
    "#[Que.21] Find the common elements between two lists.\n",
    "\n",
    "def common_elements(a,b):\n",
    "    \n",
    "    a_set = set(a)\n",
    "    b_set = set(b)\n",
    "    \n",
    "    if (a_set & b_set):\n",
    "        print(a_set & b_set)\n",
    "    \n",
    "    else:\n",
    "        print(\"No common elements\")\n",
    "        \n",
    "a = [3, 4, 5, 6, 2]\n",
    "b = [5, 7, 4, 1, 8]\n",
    "\n",
    "\n",
    "common_elements(a,b)\n"
   ]
  },
  {
   "cell_type": "code",
   "execution_count": 39,
   "id": "0e92d42a-53b0-4f26-a2d7-a010c798d91f",
   "metadata": {},
   "outputs": [
    {
     "name": "stdout",
     "output_type": "stream",
     "text": [
      "Difference between list: [20, 10]\n"
     ]
    }
   ],
   "source": [
    "#[Que.22] Find the difference between two lists.\n",
    "\n",
    "list1 = [10, 20, 30, 40, 50]\n",
    "\n",
    "list2 = [30, 40, 50, 60, 80]\n",
    "\n",
    "difference = list(set(list1).difference(list2))\n",
    "\n",
    "                  \n",
    "print(\"Difference between list:\", difference)"
   ]
  },
  {
   "cell_type": "code",
   "execution_count": 40,
   "id": "65b78441-30d6-46d6-931b-b21ec6f1ff8a",
   "metadata": {},
   "outputs": [
    {
     "name": "stdout",
     "output_type": "stream",
     "text": [
      "Merged list: [10, 20, 30, 40, 50, 60]\n"
     ]
    }
   ],
   "source": [
    "#[Que.23] Merge two lists.\n",
    "\n",
    "list1 = [10, 20, 30]\n",
    "list2 = [40, 50, 60]\n",
    "\n",
    "merged_list = list1 + list2\n",
    "\n",
    "print(\"Merged list:\", merged_list)"
   ]
  },
  {
   "cell_type": "code",
   "execution_count": 41,
   "id": "0ad65bba-3473-40c1-9375-cb8b3d1e2f6f",
   "metadata": {},
   "outputs": [
    {
     "name": "stdout",
     "output_type": "stream",
     "text": [
      "Multiplied list: [20, 40, 60, 80, 100]\n"
     ]
    }
   ],
   "source": [
    "#[Que.24] Multiply all elements in a list by 2.\n",
    "\n",
    "my_list = [10, 20, 30, 40, 50]\n",
    "\n",
    "multiplied_list = [x * 2 for x in my_list]\n",
    "\n",
    "print(\"Multiplied list:\", multiplied_list)"
   ]
  },
  {
   "cell_type": "code",
   "execution_count": 2,
   "id": "4e45f26b-cc1f-4bae-ab2f-425794da8083",
   "metadata": {},
   "outputs": [
    {
     "name": "stdout",
     "output_type": "stream",
     "text": [
      "[2, 4, 6]\n"
     ]
    }
   ],
   "source": [
    "#[Que.25] Filter out all even numbers from a list.\n",
    "\n",
    "my_list = [1, 3, 2, 5, 4, 6]\n",
    "\n",
    "out = []\n",
    "\n",
    "for num in my_list:\n",
    "    \n",
    "    if num % 2 == 0:\n",
    "        out.append(num)\n",
    "        \n",
    "print(out)\n"
   ]
  },
  {
   "cell_type": "code",
   "execution_count": 3,
   "id": "3c1cf026-5c58-426e-a9a2-57fbeb30fdb0",
   "metadata": {},
   "outputs": [
    {
     "name": "stdout",
     "output_type": "stream",
     "text": [
      "List of integers: [12, 34, 23, 21, 45]\n"
     ]
    }
   ],
   "source": [
    "#[Que.26] Convert a list of string to a list of integers.\n",
    "\n",
    "str_list = [\"12\", \"34\", \"23\", \"21\", \"45\"]\n",
    "\n",
    "int_list = [int(x) for x in str_list]\n",
    "\n",
    "print(\"List of integers:\", int_list)"
   ]
  },
  {
   "cell_type": "code",
   "execution_count": 4,
   "id": "1c55a10a-5692-4d6d-846c-8d8c64de3f7c",
   "metadata": {},
   "outputs": [
    {
     "name": "stdout",
     "output_type": "stream",
     "text": [
      "List of string: ['10', '21', '20', '40', '30', '34']\n"
     ]
    }
   ],
   "source": [
    "#[Que.27] Convert a list of integers to a list of string.\n",
    "\n",
    "int_list = [10, 21, 20, 40, 30, 34]\n",
    "\n",
    "str_list = [str(x) for x in int_list]\n",
    "\n",
    "print(\"List of string:\", str_list)"
   ]
  },
  {
   "cell_type": "code",
   "execution_count": 5,
   "id": "79cb0bb2-9d0d-4a4b-a546-bc3d7b0b17ed",
   "metadata": {},
   "outputs": [
    {
     "name": "stdout",
     "output_type": "stream",
     "text": [
      "Flattened list: [1, 2, 3, 4, 5, 6, 7, 8, 9]\n"
     ]
    }
   ],
   "source": [
    "#[Que.28] Flatten a nested list.\n",
    "\n",
    "nested_list = [[1, 2, 3], [4, 5], [6, 7, 8, 9]]\n",
    "\n",
    "def flatten_list(nested):\n",
    "    flattened = []\n",
    "    for sublist in nested:\n",
    "        if isinstance(sublist, list):\n",
    "            flattened.extend(flatten_list(sublist))\n",
    "        else:\n",
    "            flattened.append(sublist)\n",
    "    return flattened\n",
    "\n",
    "flatten_list = flatten_list(nested_list)\n",
    "\n",
    "print(\"Flattened list:\", flatten_list)"
   ]
  },
  {
   "cell_type": "code",
   "execution_count": 6,
   "id": "6bd11f3b-fb07-4f29-9962-ac8420a28cc4",
   "metadata": {},
   "outputs": [
    {
     "name": "stdout",
     "output_type": "stream",
     "text": [
      "First 10 Fibonacci numbers: [0, 1]\n"
     ]
    }
   ],
   "source": [
    "#[Que.29] Create a list of the first 10 fibonacci numbers.\n",
    "\n",
    "def generate_fibonacci(n):\n",
    "    fibonacci_list = [0, 1]\n",
    "    \n",
    "    for i in range(2, n):\n",
    "        next_fibonacci = fibonacci_list[i - 1] + fibonacci_list[i - 2]\n",
    "        fibonacci_list.append(next_fibonacci)\n",
    "        \n",
    "    return fibonacci_list\n",
    "\n",
    "fibonacci_numbers = generate_fibonacci(2)\n",
    "\n",
    "print(\"First 10 Fibonacci numbers:\", fibonacci_numbers)"
   ]
  },
  {
   "cell_type": "code",
   "execution_count": 7,
   "id": "42d3b5d6-eb8e-4857-81f8-8b36b03a3a6f",
   "metadata": {},
   "outputs": [
    {
     "name": "stdout",
     "output_type": "stream",
     "text": [
      "The list is sorted in ascending order.\n"
     ]
    }
   ],
   "source": [
    "#[Que.30] Check if a list is sorted.\n",
    "\n",
    "def is_sorted_ascending(lst):\n",
    "    for i in range(1, len(lst)):\n",
    "        if lst[i] < lst[i - 1]:\n",
    "            return False\n",
    "    return True\n",
    "\n",
    "ascending_list = [10, 20, 30, 40, 50]\n",
    "\n",
    "if is_sorted_ascending(ascending_list):\n",
    "    print(\"The list is sorted in ascending order.\")\n",
    "else:\n",
    "    print(\"The list is not sorted in ascending order.\")"
   ]
  },
  {
   "cell_type": "code",
   "execution_count": 9,
   "id": "6acaa39c-8719-4952-9ec6-6daa3d1320c1",
   "metadata": {},
   "outputs": [
    {
     "name": "stdout",
     "output_type": "stream",
     "text": [
      "Rotated list: [3, 4, 5, 6, 1, 2]\n"
     ]
    }
   ],
   "source": [
    "#[Que.31] Rotate a list to the left by n positions.\n",
    "\n",
    "def rotated_left(lst, n):\n",
    "    n = n % len(lst)\n",
    "    \n",
    "    rotated = lst[n:] + lst[:n]\n",
    "    return rotated\n",
    "\n",
    "my_list = [1, 2, 3, 4, 5, 6]\n",
    "\n",
    "n = 2\n",
    "\n",
    "rotated_list = rotated_left(my_list, n)\n",
    "\n",
    "print(\"Rotated list:\", rotated_list)"
   ]
  },
  {
   "cell_type": "code",
   "execution_count": 10,
   "id": "6d1d0d9f-4bd8-4e8f-88d7-cb24e12965be",
   "metadata": {},
   "outputs": [
    {
     "name": "stdout",
     "output_type": "stream",
     "text": [
      "Rotated list: [5, 6, 1, 2, 3, 4]\n"
     ]
    }
   ],
   "source": [
    "#[Que.32] Rotate a list to the right by n positions.\n",
    "\n",
    "def rotate_right(lst, n):\n",
    "    n = n % len(lst)\n",
    "    \n",
    "    rotated = lst[-n:] + lst[:-n]\n",
    "    return rotated\n",
    "\n",
    "my_list = [1, 2, 3, 4, 5, 6]\n",
    "\n",
    "n = 2\n",
    "\n",
    "rotated_list = rotate_right(my_list, n)\n",
    "\n",
    "print(\"Rotated list:\", rotated_list)"
   ]
  },
  {
   "cell_type": "code",
   "execution_count": 11,
   "id": "a104b8c3-15f0-466d-a3b2-610ca840228e",
   "metadata": {},
   "outputs": [
    {
     "name": "stdout",
     "output_type": "stream",
     "text": [
      "5 25\n",
      "5 29\n",
      "List of prime numbers up to 50: [2, 3, 5, 7, 11, 13, 17, 19, 23, 29]\n"
     ]
    }
   ],
   "source": [
    "#[Que.33] Create a list of prime numbers up to 50.\n",
    "\n",
    "def is_prime(num):\n",
    "    if num <= 1:\n",
    "        return False\n",
    "    if num <= 3:\n",
    "        return True\n",
    "    if num % 2 == 0 or num % 3 == 0:\n",
    "        return False\n",
    "    i = 5\n",
    "    while i * i <= num:\n",
    "        print(i,num)\n",
    "        if num % i == 0 or num % (i + 2) == 0:\n",
    "            return False\n",
    "        i += 6\n",
    "    return True\n",
    "\n",
    "prime_numbers = [num for num in range(2,30) if is_prime(num)]\n",
    "\n",
    "print(\"List of prime numbers up to 50:\", prime_numbers)"
   ]
  },
  {
   "cell_type": "code",
   "execution_count": 12,
   "id": "f74f4c7e-e0d2-4a43-bd2a-f500fe16c804",
   "metadata": {},
   "outputs": [
    {
     "name": "stdout",
     "output_type": "stream",
     "text": [
      "List of prime numbers up to 50: [2, 3, 5, 7, 11, 13, 17, 19, 23, 29]\n"
     ]
    }
   ],
   "source": [
    "#[Que.34] Split a list into chunks of size n.\n",
    "\n",
    "def sieve_of_eratosthenes(limit):\n",
    "    primes = []\n",
    "    is_prime = [True] * (limit + 1)\n",
    "    is_prime[0] = is_prime[1] = False\n",
    "    \n",
    "    for num in range(2, int(limit ** 0.5) + 1):\n",
    "        if is_prime[num]:\n",
    "            primes.append(num)\n",
    "            for multiple in range(num * num, limit + 1, num):\n",
    "                is_prime[multiple] = False\n",
    "                \n",
    "    for num in range(int(limit ** 0.5) + 1, limit + 1):\n",
    "        if is_prime[num]:\n",
    "            primes.append(num)\n",
    "            \n",
    "    return primes\n",
    "\n",
    "primes_numbers = sieve_of_eratosthenes(50)\n",
    "\n",
    "print(\"List of prime numbers up to 50:\", prime_numbers)"
   ]
  },
  {
   "cell_type": "code",
   "execution_count": 13,
   "id": "5067f6fb-f279-4d1f-ae59-12a76013e52e",
   "metadata": {},
   "outputs": [
    {
     "name": "stdout",
     "output_type": "stream",
     "text": [
      "Second largest number: 25\n"
     ]
    }
   ],
   "source": [
    "#[Que.35] Find the second largest number in a list.\n",
    "\n",
    "my_list = [10, 5, 20, 15, 30, 25]\n",
    "\n",
    "sorted_list = sorted(set(my_list))\n",
    "\n",
    "if len(sorted_list) >= 2:\n",
    "    second_largest = sorted_list[-2]\n",
    "    print(\"Second largest number:\", second_largest)\n",
    "else:\n",
    "    print(\"The list does not contain enough elements.\")"
   ]
  },
  {
   "cell_type": "code",
   "execution_count": 14,
   "id": "a53a49ee-204c-4318-b316-dc5ae36964fb",
   "metadata": {},
   "outputs": [
    {
     "name": "stdout",
     "output_type": "stream",
     "text": [
      "Squared list: [4, 16, 36, 64, 100]\n"
     ]
    }
   ],
   "source": [
    "#[Que.36] Replace every element in a list with its square.\n",
    "\n",
    "my_list = [2, 4, 6, 8, 10]\n",
    "\n",
    "squared_list = [x ** 2 for x in my_list]\n",
    "\n",
    "print(\"Squared list:\", squared_list)"
   ]
  },
  {
   "cell_type": "code",
   "execution_count": 15,
   "id": "7f6912de-1af5-403c-9054-dbd906203e81",
   "metadata": {},
   "outputs": [
    {
     "name": "stdout",
     "output_type": "stream",
     "text": [
      "Converted dictionary: {'apple': 0, 'banana': 1, 'cherry': 2, 'date': 3, 'elderberry': 4}\n"
     ]
    }
   ],
   "source": [
    "#[Que.37] Convert a list to a dictionary where list elements become keys and their indices become values.\n",
    "\n",
    "\n",
    "my_list = ['apple', 'banana', 'cherry', 'date', 'elderberry']\n",
    "\n",
    "my_dict = {element: index for index, element in enumerate(my_list)}\n",
    "\n",
    "print(\"Converted dictionary:\", my_dict)"
   ]
  },
  {
   "cell_type": "code",
   "execution_count": 16,
   "id": "202dfd5c-6f48-4004-bcf8-f9e6d9b28f0f",
   "metadata": {},
   "outputs": [
    {
     "name": "stdout",
     "output_type": "stream",
     "text": [
      "Suffled list: [4, 6, 7, 5, 8, 9, 3, 10, 1, 2]\n"
     ]
    }
   ],
   "source": [
    "#[Que.38] Shuffle the elements of a list randomly.\n",
    "\n",
    "import random\n",
    "\n",
    "my_list = [1, 2, 3, 4, 5, 6, 7, 8, 9, 10]\n",
    "\n",
    "random.shuffle(my_list)\n",
    "\n",
    "print(\"Suffled list:\", my_list)"
   ]
  },
  {
   "cell_type": "code",
   "execution_count": 17,
   "id": "e235c620-3915-4f6c-a3a0-d70aa9a8650a",
   "metadata": {},
   "outputs": [
    {
     "name": "stdout",
     "output_type": "stream",
     "text": [
      "List of the first 10 factorial numbers: [1, 1, 2, 6, 24, 120, 720, 5040, 40320, 362880]\n"
     ]
    }
   ],
   "source": [
    "#[Que.39] Create a list of the first 10 factorial numbers.\n",
    "\n",
    "def factorial(n):\n",
    "    if n == 0 or n == 1:\n",
    "        return 1\n",
    "    else:\n",
    "        return n * factorial(n - 1)\n",
    "    \n",
    "factorial_numbers = [factorial(i) for i in range(10)]\n",
    "\n",
    "print(\"List of the first 10 factorial numbers:\", factorial_numbers)"
   ]
  },
  {
   "cell_type": "code",
   "execution_count": 21,
   "id": "cd4f7d71-42ee-4a6d-b051-e4e22c00a0d6",
   "metadata": {},
   "outputs": [
    {
     "name": "stdout",
     "output_type": "stream",
     "text": [
      "The lists have at least one comm in elements.\n"
     ]
    }
   ],
   "source": [
    "#[Que.40] Check if two lists have at least one element in common.\n",
    "\n",
    "def has_common_element(list1, list2):\n",
    "    for item in list1:\n",
    "        if item in list2:\n",
    "            return True\n",
    "        \n",
    "list1 = [1, 2, 3, 4, 5]\n",
    "list2 = [4, 5, 6, 7, 8]\n",
    "\n",
    "if has_common_element(list1, list2):\n",
    "    print(\"The lists have at least one comm in elements.\")\n",
    "else:\n",
    "    (\"The lists do not have any common elements.\")"
   ]
  },
  {
   "cell_type": "code",
   "execution_count": 1,
   "id": "e761cf54-25b4-45d7-a6c2-dd91143f5d4e",
   "metadata": {},
   "outputs": [
    {
     "name": "stdout",
     "output_type": "stream",
     "text": [
      "Empty list : []\n"
     ]
    }
   ],
   "source": [
    "#[Que.41] Remove all elements from a list.\n",
    "\n",
    "my_list = [1, 2, 3, 4, 5]\n",
    "my_list.clear()\n",
    "\n",
    "print(\"Empty list :\", my_list)"
   ]
  },
  {
   "cell_type": "code",
   "execution_count": 2,
   "id": "a3576b3e-cae9-434b-aab6-11f29897e1c0",
   "metadata": {},
   "outputs": [
    {
     "name": "stdout",
     "output_type": "stream",
     "text": [
      "List after replacing negative numbers with 0: [10, 0, 20, 0, 30, 0]\n"
     ]
    }
   ],
   "source": [
    "#[Que.42] Replace negative numbers in a list with 0.\n",
    "\n",
    "my_list = [10, -5, 20, -15, 30, -25]\n",
    "\n",
    "for i in range(len(my_list)):\n",
    "    if my_list[i] < 0:\n",
    "        my_list[i] = 0\n",
    "        \n",
    "\n",
    "print(\"List after replacing negative numbers with 0:\", my_list)"
   ]
  },
  {
   "cell_type": "code",
   "execution_count": 3,
   "id": "f6b3767a-f24f-403d-b23f-123a045e9e60",
   "metadata": {},
   "outputs": [
    {
     "name": "stdout",
     "output_type": "stream",
     "text": [
      "List of word: ['Hello,', 'this', 'is', 'the', 'sample', 'code.']\n"
     ]
    }
   ],
   "source": [
    "#[Que.43] Convert a string into a list of words.\n",
    "\n",
    "my_string = \"Hello, this is the sample code.\"\n",
    "\n",
    "word_list = my_string.split()\n",
    "\n",
    "print(\"List of word:\", word_list)"
   ]
  },
  {
   "cell_type": "code",
   "execution_count": 6,
   "id": "02790c83-1668-4943-b2bb-02876fff3f53",
   "metadata": {},
   "outputs": [
    {
     "name": "stdout",
     "output_type": "stream",
     "text": [
      "Converted string: Hello, this is a my sample code.\n"
     ]
    }
   ],
   "source": [
    "#[Que.44] Convert a list of words into a string.\n",
    "\n",
    "word_list = [\"Hello,\", \"this\", \"is\", \"a\", \"my\", \"sample\", \"code.\"]\n",
    "\n",
    "my_string = \" \".join(word_list)\n",
    "\n",
    "print(\"Converted string:\", my_string)"
   ]
  },
  {
   "cell_type": "code",
   "execution_count": 7,
   "id": "07ad311d-c73d-4ca6-99c6-cf33600d2772",
   "metadata": {},
   "outputs": [
    {
     "name": "stdout",
     "output_type": "stream",
     "text": [
      "List of the first 5 powers of 2: [1, 2, 4, 8, 16]\n"
     ]
    }
   ],
   "source": [
    "#[Que.45] Create a list of the first n powers of 2.\n",
    "\n",
    "n = 5\n",
    "\n",
    "power_list = [2 ** i for i in range(n)]\n",
    "\n",
    "print(\"List of the first\", n, \"powers of 2:\", power_list)"
   ]
  },
  {
   "cell_type": "code",
   "execution_count": 8,
   "id": "3ed140b9-5608-4bee-ac25-667e824809d9",
   "metadata": {},
   "outputs": [
    {
     "name": "stdout",
     "output_type": "stream",
     "text": [
      "Longest string: blueberry\n"
     ]
    }
   ],
   "source": [
    "#[Que.46] Find the longest string ina list of string.\n",
    "\n",
    "string_list = [\"apple\", \"graphs\", \"cherry\", \"blueberry\", \"date\"]\n",
    "\n",
    "longest_string = \"\"\n",
    "for s in string_list:\n",
    "    if len(s) > len(longest_string):\n",
    "        longest_string = s\n",
    "        \n",
    "print(\"Longest string:\", longest_string)\n"
   ]
  },
  {
   "cell_type": "code",
   "execution_count": 9,
   "id": "a9d8f1ae-5d03-4538-abed-5f031831381d",
   "metadata": {},
   "outputs": [
    {
     "name": "stdout",
     "output_type": "stream",
     "text": [
      "Shortest string: date\n"
     ]
    }
   ],
   "source": [
    "#[Que.47] Find the shortest string in a list of strings.\n",
    "\n",
    "string_list = [\"apple\", \"graphs\", \"cherry\", \"blueberry\", \"date\"]\n",
    "\n",
    "shortest_string = string_list[0]\n",
    "for s in string_list:\n",
    "    if len(s) < len(shortest_string):\n",
    "        shortest_string = s\n",
    "        \n",
    "print(\"Shortest string:\", shortest_string)"
   ]
  },
  {
   "cell_type": "code",
   "execution_count": 1,
   "id": "b978f752-7879-428e-b268-164e08fbb096",
   "metadata": {},
   "outputs": [
    {
     "name": "stdout",
     "output_type": "stream",
     "text": [
      "List of the first 5 triangular number: [1, 3, 6, 10, 15]\n"
     ]
    }
   ],
   "source": [
    "#[Que.48] Create a list of the first n triangular numbers.\n",
    "\n",
    "def triangular_number(n):\n",
    "    return [i * (i + 1) // 2 for i in range(1, n + 1)]\n",
    "\n",
    "n = 5\n",
    "\n",
    "triangular_list = triangular_number(n)\n",
    "\n",
    "print(\"List of the first\", n, \"triangular number:\", triangular_list)"
   ]
  },
  {
   "cell_type": "code",
   "execution_count": 2,
   "id": "bc16b895-449e-4685-9f26-917a3a4b5cf0",
   "metadata": {},
   "outputs": [
    {
     "name": "stdout",
     "output_type": "stream",
     "text": [
      "Main list contains the subsequence.\n"
     ]
    }
   ],
   "source": [
    "#[Que.49] Check if a list contains another list as a subsequence.\n",
    "\n",
    "def is_subsequence(subsequence, main_list):\n",
    "    subseq_index = 0\n",
    "    for element in main_list:\n",
    "        if element == subsequence[subseq_index]:\n",
    "            subseq_index += 1\n",
    "            if subseq_index == len(subsequence):\n",
    "                return True\n",
    "    return False\n",
    "\n",
    "main_list = [1, 2, 3, 4, 5, 6, 7, 8, 9, 10]\n",
    "subsequence = [3, 5, 8]\n",
    "\n",
    "if is_subsequence(subsequence, main_list):\n",
    "    print(\"Main list contains the subsequence.\")\n",
    "else:\n",
    "    print(\"Main list does not contain the subsequence.\")\n",
    "        "
   ]
  },
  {
   "cell_type": "code",
   "execution_count": 3,
   "id": "335aec9f-f26d-4e89-a14d-e71d9375b2cd",
   "metadata": {},
   "outputs": [
    {
     "name": "stdout",
     "output_type": "stream",
     "text": [
      "List after swapping elements: [1, 4, 3, 2, 5]\n"
     ]
    }
   ],
   "source": [
    "#[Que.50] Swap two elements in a list by their indices.\n",
    "\n",
    "my_list = [1, 2, 3, 4, 5]\n",
    "\n",
    "index1 = 1\n",
    "index2 = 3\n",
    "\n",
    "temp = my_list[index1]\n",
    "my_list[index1] = my_list[index2]\n",
    "my_list[index2] = temp\n",
    "\n",
    "print(\"List after swapping elements:\", my_list)"
   ]
  },
  {
   "cell_type": "code",
   "execution_count": 4,
   "id": "1343a42f-8888-422f-9363-a0a19967b256",
   "metadata": {},
   "outputs": [],
   "source": [
    "# Tuple based practice problem :"
   ]
  },
  {
   "cell_type": "code",
   "execution_count": 5,
   "id": "bf7ad77f-20d7-4814-af0b-41f2ae6f4cad",
   "metadata": {},
   "outputs": [
    {
     "name": "stdout",
     "output_type": "stream",
     "text": [
      "The third element of the tuple is : 30\n"
     ]
    }
   ],
   "source": [
    "#[Que.1] Create a tuple with integers from 1 to 5.\n",
    "\n",
    "my_tuple = (10, 20, 30, 40, 50)\n",
    "\n",
    "third_element = my_tuple[2]\n",
    "\n",
    "print(\"The third element of the tuple is :\", third_element)"
   ]
  },
  {
   "cell_type": "code",
   "execution_count": 6,
   "id": "34ae3933-f4ca-4d77-b895-ee8fd7dcad97",
   "metadata": {},
   "outputs": [
    {
     "name": "stdout",
     "output_type": "stream",
     "text": [
      "The third element of the tuple is : 30\n"
     ]
    }
   ],
   "source": [
    "#[Que.2] Access the third element of a tuple.\n",
    "\n",
    "my_tuple = (10, 20, 30, 40, 50)\n",
    "\n",
    "third_element = my_tuple[2]\n",
    "\n",
    "print(\"The third element of the tuple is :\", third_element)\n"
   ]
  },
  {
   "cell_type": "code",
   "execution_count": 7,
   "id": "e126af6f-5234-482e-abde-16769bf446b0",
   "metadata": {},
   "outputs": [
    {
     "name": "stdout",
     "output_type": "stream",
     "text": [
      "The length of the tuple is: 5\n"
     ]
    }
   ],
   "source": [
    "#[Que.3] Find the length of a tuple without using the len() function.\n",
    "\n",
    "my_tuple = (10, 20, 30, 40, 50)\n",
    "\n",
    "count = 0\n",
    "\n",
    "for _ in my_tuple:\n",
    "    count += 1\n",
    "    \n",
    "print(\"The length of the tuple is:\", count)"
   ]
  },
  {
   "cell_type": "code",
   "execution_count": 8,
   "id": "8d894b52-1b36-464f-b765-0a08968cca02",
   "metadata": {},
   "outputs": [
    {
     "name": "stdout",
     "output_type": "stream",
     "text": [
      "The element 20 appears 2 times in the tuple.\n"
     ]
    }
   ],
   "source": [
    "#[Que.4] Count the occurrences of an element in a tuple.\n",
    "\n",
    "my_tuple = (10, 20, 30, 40, 50, 20)\n",
    "\n",
    "element_to_count = 20\n",
    "\n",
    "count = 0\n",
    "\n",
    "for item in my_tuple:\n",
    "    if item == element_to_count:\n",
    "        count += 1\n",
    "        \n",
    "print(f\"The element {element_to_count} appears {count} times in the tuple.\")"
   ]
  },
  {
   "cell_type": "code",
   "execution_count": 9,
   "id": "daa6ee89-0459-46dc-af75-ae4fabe8e08d",
   "metadata": {},
   "outputs": [
    {
     "name": "stdout",
     "output_type": "stream",
     "text": [
      "The first occurrence of 20 is at index 1.\n"
     ]
    }
   ],
   "source": [
    "#[Que.5] Find the index of the first occurrence of an element in a tuple.\n",
    "\n",
    "my_tuple = (10, 20, 30, 20, 40, 50)\n",
    "\n",
    "element_to_find = 20\n",
    "\n",
    "index = -1\n",
    "\n",
    "for i, item in enumerate(my_tuple):\n",
    "    if item == element_to_find:\n",
    "        index = i\n",
    "        break\n",
    "        \n",
    "\n",
    "if index != -1:\n",
    "    print(f\"The first occurrence of {element_to_find} is at index {index}.\")\n",
    "else:\n",
    "    print(f\"{element_to_find} is not found in the tuple.\")"
   ]
  },
  {
   "cell_type": "code",
   "execution_count": 10,
   "id": "60f3862f-8045-4652-8b36-72acca25125f",
   "metadata": {},
   "outputs": [
    {
     "name": "stdout",
     "output_type": "stream",
     "text": [
      "30 exists in the tuple.\n"
     ]
    }
   ],
   "source": [
    "#[Que.6] Check if an element exists in a tuple.\n",
    "\n",
    "my_tuple = (10, 20, 30, 40, 50)\n",
    "\n",
    "element_to_check = 30\n",
    "\n",
    "if element_to_check in my_tuple:\n",
    "    print(f\"{element_to_check} exists in the tuple.\")\n",
    "else:\n",
    "    print(f\"{element_to_check} does not exists in the tuple.\")"
   ]
  },
  {
   "cell_type": "code",
   "execution_count": 11,
   "id": "9eecab95-b872-429a-a145-79be81e425f9",
   "metadata": {},
   "outputs": [
    {
     "name": "stdout",
     "output_type": "stream",
     "text": [
      "Tuple: (10, 20, 30, 40, 50)\n",
      "List: [10, 20, 30, 40, 50]\n"
     ]
    }
   ],
   "source": [
    "#[Que.7] Convert a tuple to a list.\n",
    "\n",
    "my_tuple = (10, 20, 30, 40, 50)\n",
    "\n",
    "my_list = list(my_tuple)\n",
    "\n",
    "print(\"Tuple:\", my_tuple)\n",
    "print(\"List:\", my_list)"
   ]
  },
  {
   "cell_type": "code",
   "execution_count": 12,
   "id": "a745f400-f8d1-4c58-a71a-0a7217c5546c",
   "metadata": {},
   "outputs": [
    {
     "name": "stdout",
     "output_type": "stream",
     "text": [
      "List: [10, 30, 40, 50, 40]\n",
      "Tuple: (10, 30, 40, 50, 40)\n"
     ]
    }
   ],
   "source": [
    "#[Que.8] Convert a list to a tuple.\n",
    "\n",
    "my_list = [10, 30, 40, 50, 40]\n",
    "\n",
    "my_tuple = tuple(my_list)\n",
    "\n",
    "print(\"List:\", my_list)\n",
    "print(\"Tuple:\", my_tuple)"
   ]
  },
  {
   "cell_type": "code",
   "execution_count": 14,
   "id": "88a8454d-2140-4e3e-99f3-98eaaae3b5b7",
   "metadata": {},
   "outputs": [
    {
     "name": "stdout",
     "output_type": "stream",
     "text": [
      "var1: 10\n",
      "var2: 20\n",
      "var3: 30\n"
     ]
    }
   ],
   "source": [
    "#[Que.9] Unpack the elements of a tuple into variables.\n",
    "\n",
    "my_tuple = (10, 20 , 30)\n",
    "\n",
    "var1, var2, var3 = my_tuple\n",
    "\n",
    "print(\"var1:\",var1)\n",
    "print(\"var2:\",var2)\n",
    "print(\"var3:\",var3)"
   ]
  },
  {
   "cell_type": "code",
   "execution_count": 1,
   "id": "051f8e47-794a-44d0-bec3-f6ac696ee3cc",
   "metadata": {},
   "outputs": [
    {
     "name": "stdout",
     "output_type": "stream",
     "text": [
      "Tuple of even numbers: (2, 4, 6, 8, 10)\n"
     ]
    }
   ],
   "source": [
    "#[Que.10] Create a tuple of even numbers from 1 to 10.\n",
    "\n",
    "even_numbers_list = [num for num in range(2, 11, 2)]\n",
    "\n",
    "even_numbers_tuple = tuple(even_numbers_list)\n",
    "\n",
    "print(\"Tuple of even numbers:\", even_numbers_tuple)"
   ]
  },
  {
   "cell_type": "code",
   "execution_count": 5,
   "id": "ec097106-0362-4a22-8b08-5dc30072f851",
   "metadata": {},
   "outputs": [
    {
     "name": "stdout",
     "output_type": "stream",
     "text": [
      "Tuple of odd numbers: (1, 3, 5, 7, 9)\n"
     ]
    }
   ],
   "source": [
    "#[Que.11] Create a tuple of odd numbers from 1 to 10.\n",
    "\n",
    "odd_numbers_list = [num for num in range(1, 11, 2)]\n",
    "\n",
    "odd_numbers_tuple = tuple(odd_numbers_list)\n",
    "\n",
    "print(\"Tuple of odd numbers:\", odd_numbers_tuple)"
   ]
  },
  {
   "cell_type": "code",
   "execution_count": 6,
   "id": "bc8d51c3-cc42-4427-bb0f-7a062a3b94f0",
   "metadata": {},
   "outputs": [
    {
     "name": "stdout",
     "output_type": "stream",
     "text": [
      "Concatenated tuple: (1, 2, 3, 4, 5, 6)\n"
     ]
    }
   ],
   "source": [
    "#[Que.12] Concatenate two tuples.\n",
    "\n",
    "tuple1 = (1, 2, 3)\n",
    "tuple2 = (4, 5, 6)\n",
    "\n",
    "concatenated_tuple = tuple1 + tuple2\n",
    "\n",
    "print(\"Concatenated tuple:\", concatenated_tuple)"
   ]
  },
  {
   "cell_type": "code",
   "execution_count": 7,
   "id": "7eb1ea34-eee9-4953-96a1-a0b8bbe4403d",
   "metadata": {},
   "outputs": [
    {
     "name": "stdout",
     "output_type": "stream",
     "text": [
      "Repeated tuple: (1, 2, 4, 5, 3, 1, 2, 4, 5, 3, 1, 2, 4, 5, 3)\n"
     ]
    }
   ],
   "source": [
    "#[Que.13] Repeat a tuple three times.\n",
    "\n",
    "original_tuple = (1, 2, 4, 5, 3)\n",
    "\n",
    "repeated_tuple = original_tuple * 3\n",
    "\n",
    "print(\"Repeated tuple:\", repeated_tuple)"
   ]
  },
  {
   "cell_type": "code",
   "execution_count": 8,
   "id": "44c739b4-0f75-4957-a1ed-adcca3f749dd",
   "metadata": {},
   "outputs": [
    {
     "name": "stdout",
     "output_type": "stream",
     "text": [
      "The empty_tuple is empty\n",
      "The non_empty_tuple is not empty.\n"
     ]
    }
   ],
   "source": [
    "#[Que.14] Check if a tuple is empty.\n",
    "\n",
    "empty_tuple = ()\n",
    "non_empty_tuple = (1, 2, 3)\n",
    "\n",
    "if not empty_tuple:\n",
    "    print(\"The empty_tuple is empty\")\n",
    "else:\n",
    "    print(\"The empty_tuple is not empty\")\n",
    "    \n",
    "if not non_empty_tuple:\n",
    "    print(\"The non_empty_tuple is empty.\")\n",
    "else:\n",
    "    print(\"The non_empty_tuple is not empty.\")"
   ]
  },
  {
   "cell_type": "code",
   "execution_count": 9,
   "id": "ad13036d-b8f3-4a16-a610-ed72aae1b16a",
   "metadata": {},
   "outputs": [
    {
     "name": "stdout",
     "output_type": "stream",
     "text": [
      "Nested tuple: ((1, 2, 3), ('a', 'b', 'c'), (True, False))\n"
     ]
    }
   ],
   "source": [
    "#[Que.15] Create a nested tuple.\n",
    "\n",
    "nested_tuple = ((1, 2, 3), ('a', 'b', 'c'), (True, False))\n",
    "\n",
    "print(\"Nested tuple:\", nested_tuple)"
   ]
  },
  {
   "cell_type": "code",
   "execution_count": 10,
   "id": "c3efcf84-00e5-4515-ad6c-8344477ea9a1",
   "metadata": {},
   "outputs": [
    {
     "name": "stdout",
     "output_type": "stream",
     "text": [
      "First element of the nested tuple: (1, 2, 3)\n"
     ]
    }
   ],
   "source": [
    "#[Que.16] Access the first element of a nested tuple.\n",
    "\n",
    "nested_tuple = ((1, 2, 3), ('a', 'b', 'c'), (True, False))\n",
    "\n",
    "first_element = nested_tuple[0]\n",
    "\n",
    "print(\"First element of the nested tuple:\", first_element)"
   ]
  },
  {
   "cell_type": "code",
   "execution_count": 11,
   "id": "c160cf7c-10c7-400e-8e8b-5812a06f5343",
   "metadata": {},
   "outputs": [
    {
     "name": "stdout",
     "output_type": "stream",
     "text": [
      "Single element tuple: (42,)\n"
     ]
    }
   ],
   "source": [
    "#[Que.17] Create a tuple with a single element.\n",
    "\n",
    "single_element_tuple = (42,)\n",
    "\n",
    "print(\"Single element tuple:\", single_element_tuple)"
   ]
  },
  {
   "cell_type": "code",
   "execution_count": 12,
   "id": "16443208-4371-476a-b185-8d1ae0fa9d87",
   "metadata": {},
   "outputs": [
    {
     "name": "stdout",
     "output_type": "stream",
     "text": [
      "tuple1 == tuple2: False\n",
      "tuple1 != tuple2: True\n",
      "tuple1 < tuple2: True\n",
      "tuple1 > tuple2: False\n",
      "tuple1 <= tuple2: True\n",
      "tuple1 >= tuple2: False\n"
     ]
    }
   ],
   "source": [
    "#[Que.18] Compare two tuple.\n",
    "\n",
    "tuple1 = (1, 2, 3)\n",
    "tuple2 = (1, 3, 4)\n",
    "\n",
    "print(\"tuple1 == tuple2:\", tuple1 == tuple2)\n",
    "print(\"tuple1 != tuple2:\", tuple1 != tuple2)\n",
    "print(\"tuple1 < tuple2:\", tuple1 < tuple2)\n",
    "print(\"tuple1 > tuple2:\", tuple1 > tuple2)\n",
    "print(\"tuple1 <= tuple2:\", tuple1 <= tuple2)\n",
    "print(\"tuple1 >= tuple2:\", tuple1 >= tuple2)"
   ]
  },
  {
   "cell_type": "code",
   "execution_count": 27,
   "id": "07356bcc-6ccb-4762-bd81-f014b2af1046",
   "metadata": {},
   "outputs": [
    {
     "ename": "SyntaxError",
     "evalue": "invalid syntax (1181004774.py, line 5)",
     "output_type": "error",
     "traceback": [
      "\u001b[0;36m  Cell \u001b[0;32mIn[27], line 5\u001b[0;36m\u001b[0m\n\u001b[0;31m    del_tuple = tuple.del(my_tuple)\u001b[0m\n\u001b[0m                      ^\u001b[0m\n\u001b[0;31mSyntaxError\u001b[0m\u001b[0;31m:\u001b[0m invalid syntax\n"
     ]
    }
   ],
   "source": [
    "#[Que.19] Delete a tuple.\n",
    "\n",
    "my_tuple = (1, 2, 3, 4, 5, 6)\n",
    "\n",
    "del_tuple = tuple.del(my_tuple)\n",
    "\n",
    "print(\"Delete a tuple:\", del_tuple)"
   ]
  },
  {
   "cell_type": "code",
   "execution_count": 33,
   "id": "58a4d595-4276-4a83-98db-ba7c723ff74c",
   "metadata": {},
   "outputs": [
    {
     "name": "stdout",
     "output_type": "stream",
     "text": [
      "Sliced tuple: (3, 4, 5, 6)\n"
     ]
    }
   ],
   "source": [
    "#[Que.20] Slice a tuple.\n",
    "\n",
    "my_tuple = (1, 2, 3, 4, 5, 6, 7, 8, 9, 10)\n",
    "\n",
    "sliced_tuple = my_tuple[2:6]\n",
    "\n",
    "print(\"Sliced tuple:\", sliced_tuple)"
   ]
  },
  {
   "cell_type": "code",
   "execution_count": 35,
   "id": "3f61369e-b91f-47c0-bc6e-9d6b636dd548",
   "metadata": {},
   "outputs": [
    {
     "name": "stdout",
     "output_type": "stream",
     "text": [
      "Maximum value: 45\n"
     ]
    }
   ],
   "source": [
    "#[Que.21] Find the maximum value in a tuple.\n",
    "\n",
    "my_tuple = (10, 20, 5, 45, 30)\n",
    "\n",
    "max_value = max(my_tuple)\n",
    "\n",
    "print(\"Maximum value:\", max_value)"
   ]
  },
  {
   "cell_type": "code",
   "execution_count": 37,
   "id": "8586937e-5a6c-4755-a621-ec600df9bd2c",
   "metadata": {},
   "outputs": [
    {
     "name": "stdout",
     "output_type": "stream",
     "text": [
      "Minimum value: 5\n"
     ]
    }
   ],
   "source": [
    "#[Que.22] Find the minimum value in a tuple.\n",
    "\n",
    "my_tuple = (10, 20, 5, 45, 30)\n",
    "\n",
    "min_value = min(my_tuple)\n",
    "\n",
    "print(\"Minimum value:\", min_value)"
   ]
  },
  {
   "cell_type": "code",
   "execution_count": 38,
   "id": "c4675590-88cd-4eec-a641-187d8220f445",
   "metadata": {},
   "outputs": [
    {
     "name": "stdout",
     "output_type": "stream",
     "text": [
      "Tuple of characters: ('H', 'e', 'l', 'l', 'o', ',', ' ', 'W', 'o', 'r', 'l', 'd', '!')\n"
     ]
    }
   ],
   "source": [
    "#[Que.23] Convert a string to a tuple of characters.\n",
    "\n",
    "my_string = \"Hello, World!\"\n",
    "\n",
    "tuple_of_characters = tuple(my_string)\n",
    "\n",
    "print(\"Tuple of characters:\", tuple_of_characters)"
   ]
  },
  {
   "cell_type": "code",
   "execution_count": 39,
   "id": "9d7f9987-c577-401e-b49a-d9d330ac50de",
   "metadata": {},
   "outputs": [
    {
     "name": "stdout",
     "output_type": "stream",
     "text": [
      "String from tuple: Hello, World!\n"
     ]
    }
   ],
   "source": [
    "#[Que.24] Convert a tuple of characters to a string.\n",
    "\n",
    "tuple_of_characters = ('H', 'e', 'l', 'l', 'o', ',', ' ', 'W', 'o', 'r', 'l', 'd', '!')\n",
    "\n",
    "string_from_tuple = ''.join(tuple_of_characters)\n",
    "\n",
    "print(\"String from tuple:\", string_from_tuple)"
   ]
  },
  {
   "cell_type": "code",
   "execution_count": 40,
   "id": "5b2f527b-008f-4ad2-af71-a1c306444c39",
   "metadata": {},
   "outputs": [
    {
     "name": "stdout",
     "output_type": "stream",
     "text": [
      "(1, 'hello', 2.44, False)\n"
     ]
    }
   ],
   "source": [
    "#[Que.25] Create a tuple from multiple data types.\n",
    "\n",
    "mixed_tuple = (1, \"hello\", 2.44, False)\n",
    "\n",
    "print(mixed_tuple)"
   ]
  },
  {
   "cell_type": "code",
   "execution_count": 41,
   "id": "95409d2d-5b54-4281-a2a0-bbb8f245b57d",
   "metadata": {},
   "outputs": [
    {
     "name": "stdout",
     "output_type": "stream",
     "text": [
      "tuple1 and tuple2 are identical: True\n",
      "tuple1 and tuple3 are identical: False\n"
     ]
    }
   ],
   "source": [
    "#[Que.26] Check if two tuples are identical.\n",
    "\n",
    "tuple1 = (1, 2, 3)\n",
    "tuple2 = (1, 2, 3)\n",
    "tuple3 = (4, 5, 6)\n",
    "\n",
    "are_identical1 = tuple1 == tuple2\n",
    "are_identical2 = tuple1 == tuple3\n",
    "\n",
    "print(\"tuple1 and tuple2 are identical:\", are_identical1)\n",
    "print(\"tuple1 and tuple3 are identical:\", are_identical2)"
   ]
  },
  {
   "cell_type": "code",
   "execution_count": 42,
   "id": "78faf07b-6551-4e22-a9b1-dff77f7cf23e",
   "metadata": {},
   "outputs": [
    {
     "name": "stdout",
     "output_type": "stream",
     "text": [
      "Sorted tuple: (1, 3, 5, 6, 7, 8)\n"
     ]
    }
   ],
   "source": [
    "#[Que.27] Sort the elements of a tuple.\n",
    "\n",
    "my_tuple = (5, 3, 6, 7,  8, 1)\n",
    "\n",
    "sorted_tuple = tuple(sorted(my_tuple))\n",
    "\n",
    "\n",
    "print(\"Sorted tuple:\", sorted_tuple)\n"
   ]
  },
  {
   "cell_type": "code",
   "execution_count": 43,
   "id": "5e02a243-6546-4a05-aa26-7697c2001749",
   "metadata": {},
   "outputs": [
    {
     "name": "stdout",
     "output_type": "stream",
     "text": [
      "Tuple of string: ('1', '2', '3', '4', '5')\n"
     ]
    }
   ],
   "source": [
    "#[Que.28] Convert a tuple of integers to a tuple of string.\n",
    "\n",
    "tuple_of_integers = (1, 2, 3, 4, 5)\n",
    "\n",
    "tuple_of_string = tuple(str(item) for item in tuple_of_integers)\n",
    "\n",
    "print(\"Tuple of string:\", tuple_of_string)"
   ]
  },
  {
   "cell_type": "code",
   "execution_count": 44,
   "id": "73bfe870-90d7-4706-8b2f-0fa8dae56881",
   "metadata": {},
   "outputs": [
    {
     "name": "stdout",
     "output_type": "stream",
     "text": [
      "Tuple of integers: (10, 20, 30, 40, 50)\n"
     ]
    }
   ],
   "source": [
    "#[Que.29] Convert a tuple of string to a tuple of integers.\n",
    "\n",
    "tuple_of_string = ('10', '20', '30', '40', '50')\n",
    "\n",
    "tuple_of_integers = tuple(int(item) for item in tuple_of_string)\n",
    "\n",
    "print(\"Tuple of integers:\", tuple_of_integers)"
   ]
  },
  {
   "cell_type": "code",
   "execution_count": 45,
   "id": "971aa5fe-2e86-45f0-b32b-1800d3c79747",
   "metadata": {},
   "outputs": [
    {
     "name": "stdout",
     "output_type": "stream",
     "text": [
      "Merged tuple: (1, 2, 3, 4, 5, 6)\n"
     ]
    }
   ],
   "source": [
    "#[Que.30] Merge two tuples.\n",
    "\n",
    "tuple1 = (1, 2, 3)\n",
    "tuple2 = (4, 5, 6)\n",
    "\n",
    "merged_tuple = tuple1 + tuple2\n",
    "\n",
    "print(\"Merged tuple:\", merged_tuple)"
   ]
  },
  {
   "cell_type": "code",
   "execution_count": 47,
   "id": "0ed423e5-6aa9-4ef5-bd4f-53d6cd029618",
   "metadata": {},
   "outputs": [
    {
     "name": "stdout",
     "output_type": "stream",
     "text": [
      "Flattened tuple: (1, 2, 3, 4, 5, 6, 7, 8)\n"
     ]
    }
   ],
   "source": [
    "#[Que.31] Flatten a nested tuple.\n",
    "\n",
    "def flatten_tuple(nested_tuple):\n",
    "    flattened = []\n",
    "    for item in nested_tuple:\n",
    "        if isinstance(item, tuple):\n",
    "            flattened.extend(flatten_tuple(item))\n",
    "        else:\n",
    "            flattened.append(item)\n",
    "    return flattened\n",
    "\n",
    "nested_tuple = ((1, 2), (3, 4, 5), (6, (7, 8)))\n",
    "\n",
    "flatten_tuple = tuple(flatten_tuple(nested_tuple))\n",
    "\n",
    "print(\"Flattened tuple:\", flatten_tuple)"
   ]
  },
  {
   "cell_type": "code",
   "execution_count": 48,
   "id": "f78b05aa-830c-49d5-8430-2a3a0014ce80",
   "metadata": {},
   "outputs": [
    {
     "name": "stdout",
     "output_type": "stream",
     "text": [
      "Tuple of the first 5 prime numbers: (2, 3, 5, 7, 11)\n"
     ]
    }
   ],
   "source": [
    "#[Que.32] Create a tuple of the first 5 prime numbers.\n",
    "\n",
    "def is_prime(num):\n",
    "    if num <= 1:\n",
    "        return False\n",
    "    for i in range(2, int(num ** 0.5) + 1):\n",
    "        if num % i == 0:\n",
    "            return False\n",
    "    return True\n",
    "\n",
    "prime_numbers_list = [num for  num in range(2, 100) if is_prime(num)][:5]\n",
    "\n",
    "prime_numbers_tuple = tuple(prime_numbers_list)\n",
    "\n",
    "\n",
    "print(\"Tuple of the first 5 prime numbers:\", prime_numbers_tuple)"
   ]
  },
  {
   "cell_type": "code",
   "execution_count": 50,
   "id": "b0da10f8-87f2-4d37-b63e-f2d87945cfa2",
   "metadata": {},
   "outputs": [
    {
     "name": "stdout",
     "output_type": "stream",
     "text": [
      "palindrome_tuple is a palindrome: True\n",
      "non_palindrome_tuple is a palindrome: False\n"
     ]
    }
   ],
   "source": [
    "#[Que.33] Check if a tuple is a palindrome.\n",
    "\n",
    "def is_palindrome(tup):\n",
    "    return tup == tup[::-1]\n",
    "\n",
    "palindrome_tuple = (1, 2, 3, 2, 1)\n",
    "non_palindrome_tuple = (1, 2, 3, 4, 5)\n",
    "\n",
    "is_palindrome1 = is_palindrome(palindrome_tuple)\n",
    "is_palindrome2 = is_palindrome(non_palindrome_tuple)\n",
    "\n",
    "print(\"palindrome_tuple is a palindrome:\", is_palindrome1)\n",
    "print(\"non_palindrome_tuple is a palindrome:\", is_palindrome2)"
   ]
  },
  {
   "cell_type": "code",
   "execution_count": 51,
   "id": "69ab1baf-4880-4040-8c5d-0c5cdaa4f863",
   "metadata": {},
   "outputs": [
    {
     "name": "stdout",
     "output_type": "stream",
     "text": [
      "Tuple of squares: (1, 4, 9, 16, 25)\n"
     ]
    }
   ],
   "source": [
    "#[Que.34] Create a tuple of squares of numbers from 1 to 5.\n",
    "\n",
    "squares_tuple = tuple(x ** 2 for x in range(1, 6))\n",
    "\n",
    "print(\"Tuple of squares:\", squares_tuple)"
   ]
  },
  {
   "cell_type": "code",
   "execution_count": 1,
   "id": "fedb706f-bc16-4610-a554-0a95bce8a865",
   "metadata": {},
   "outputs": [
    {
     "name": "stdout",
     "output_type": "stream",
     "text": [
      "Filtered tuple: (1, 3, 5, 7, 9)\n"
     ]
    }
   ],
   "source": [
    "#[Que.35] Filter out all even numbers from a tuple.\n",
    "\n",
    "original_tuple = (1, 2, 3, 4, 5, 6, 7, 8, 9, 10)\n",
    "\n",
    "filtered_tuple = tuple(num for num in original_tuple if num % 2 != 0)\n",
    "\n",
    "print(\"Filtered tuple:\", filtered_tuple)"
   ]
  },
  {
   "cell_type": "code",
   "execution_count": 2,
   "id": "c414fe45-55b0-42fb-aeb3-002be6d9fd4b",
   "metadata": {},
   "outputs": [
    {
     "name": "stdout",
     "output_type": "stream",
     "text": [
      "Doubled tuple: (2, 4, 6, 8, 10)\n"
     ]
    }
   ],
   "source": [
    "#[Que.36] Multiply all elements in a tuple by 2.\n",
    "\n",
    "\n",
    "original_tuple = (1, 2, 3, 4, 5)\n",
    "\n",
    "double_tuple = tuple(num * 2 for num in original_tuple)\n",
    "\n",
    "print(\"Doubled tuple:\", double_tuple)"
   ]
  },
  {
   "cell_type": "code",
   "execution_count": 3,
   "id": "2864a9c5-043a-412d-91a3-29a8f5e5e870",
   "metadata": {},
   "outputs": [
    {
     "name": "stdout",
     "output_type": "stream",
     "text": [
      "Random tuple: (70, 48, 29, 56, 69, 66, 28, 50, 15, 33)\n"
     ]
    }
   ],
   "source": [
    "#[Que.37] Create a tuple of random numbers.\n",
    "\n",
    "import random\n",
    "\n",
    "random_tuple = tuple(random.randint(1, 100) for _ in range(10))\n",
    "\n",
    "\n",
    "print(\"Random tuple:\", random_tuple)"
   ]
  },
  {
   "cell_type": "code",
   "execution_count": 11,
   "id": "666f2fe0-08f0-41de-b6de-2ac7460cc7c2",
   "metadata": {},
   "outputs": [
    {
     "name": "stdout",
     "output_type": "stream",
     "text": [
      "sorted_tuple is sorted: True\n",
      "unsorted_tuple is sorted: False\n"
     ]
    }
   ],
   "source": [
    "#[Que.38] Check if a tuple is sorted.\n",
    "\n",
    "def is_sorted(tup):\n",
    "    for i in range(len(tup) - 1):\n",
    "        if tup[i] > tup[i + 1]:\n",
    "            return False\n",
    "    return True\n",
    "    \n",
    "sorted_tuple = (1, 2, 3, 4, 5)\n",
    "unsorted_tuple = (5, 3, 1, 4, 2)\n",
    "    \n",
    "is_sorted1 = is_sorted(sorted_tuple)\n",
    "is_sorted2 = is_sorted(unsorted_tuple)\n",
    "    \n",
    "print(\"sorted_tuple is sorted:\", is_sorted1)\n",
    "print(\"unsorted_tuple is sorted:\", is_sorted2)"
   ]
  },
  {
   "cell_type": "code",
   "execution_count": 14,
   "id": "dfe746cc-0bee-48d8-b616-a42ef057490c",
   "metadata": {},
   "outputs": [
    {
     "name": "stdout",
     "output_type": "stream",
     "text": [
      "(3, 4, 5, 1, 2)\n"
     ]
    }
   ],
   "source": [
    " #[Que.39] Rotate a tuple to the left by n positions.\n",
    "\n",
    "def rotate_tuple_left(tup, n):\n",
    "    n = n % len(tup) # Ensure n is within the range of tuple length\n",
    "    rotated_tuple = tup[n:] + tup[:n]  # Rotate the tuple\n",
    "    return rotated_tuple\n",
    "\n",
    "# Example tuple\n",
    "my_tuple = (1, 2, 3, 4, 5)\n",
    "n_position = 2\n",
    "result = rotate_tuple_left(my_tuple, n_position)\n",
    "print(result)\n",
    "    "
   ]
  },
  {
   "cell_type": "code",
   "execution_count": 16,
   "id": "619ceafe-9cf3-4240-8ffb-990e31a04632",
   "metadata": {},
   "outputs": [
    {
     "name": "stdout",
     "output_type": "stream",
     "text": [
      "(4, 5, 1, 2, 3)\n"
     ]
    }
   ],
   "source": [
    "#[Que.40] Rotate a tuple to the right by n positions.\n",
    "\n",
    "def rotate_tuple_right(tup, n):\n",
    "    n = n % len(tup)  # Ensure n is within the range of tuple length\n",
    "    rotated_tuple = tup[-n:] + tup[:-n]    # Rotate the tuple\n",
    "    return rotated_tuple\n",
    "\n",
    "# Example tuple\n",
    "my_tuple = (1, 2, 3, 4, 5)\n",
    "n_position = 2\n",
    "result = rotate_tuple_right(my_tuple, n_position)\n",
    "print(result)"
   ]
  },
  {
   "cell_type": "code",
   "execution_count": 18,
   "id": "b54bee02-8aff-4f0d-b401-3caad301d2eb",
   "metadata": {},
   "outputs": [
    {
     "name": "stdout",
     "output_type": "stream",
     "text": [
      "(0, 1, 1, 2, 3)\n"
     ]
    }
   ],
   "source": [
    "#[Que.41] Create a tuple of the first 5 Fibonacci numbers.\n",
    "\n",
    " # Convert the list to a tuple and return it\n",
    "def generate_Fibonacci(n):\n",
    "    fibonacci = [0, 1]   # Initialize the list with the first two Fibonacci numbers\n",
    "    while len(fibonacci) < n:   # Initialize the list with the first two Fibonacci numbers\n",
    "        next_number = fibonacci[-1] + fibonacci[-2] # Calculate the next Fibonacci number\n",
    "        fibonacci.append(next_number) # Add the next Fibonacci number to the list\n",
    "    return tuple(fibonacci)  # Convert the list to a tuple and return it\n",
    "\n",
    "# Call the generate_fibonacci function to create a tuple of the first 5 Fibonacci numbers\n",
    "fibonacci_tuple = generate_Fibonacci(5)\n",
    "\n",
    "\n",
    "# Print the resulting tuple\n",
    "print(fibonacci_tuple)"
   ]
  },
  {
   "cell_type": "code",
   "execution_count": 19,
   "id": "d70893f7-f4fb-42de-8b47-49884c3130e1",
   "metadata": {},
   "outputs": [
    {
     "name": "stdin",
     "output_type": "stream",
     "text": [
      "Enter elements separated by commas:  sd,f,gr,e,r,t,e,g,\n"
     ]
    },
    {
     "name": "stdout",
     "output_type": "stream",
     "text": [
      "User input tuple: ('sd', 'f', 'gr', 'e', 'r', 't', 'e', 'g', '')\n"
     ]
    }
   ],
   "source": [
    "#[Que.42] Create a tuple from user input.\n",
    "\n",
    "# Taking user input for creating a tuple\n",
    "input_str = input(\"Enter elements separated by commas: \")\n",
    "\n",
    "# Splitting the input string into a list of strings\n",
    "input_list = input_str.split(',')\n",
    "\n",
    "# Converting the list of strings to a tuple\n",
    "user_tuple = tuple(input_list)\n",
    "\n",
    "# Converting the list of strings to a tuple\n",
    "print(\"User input tuple:\", user_tuple)"
   ]
  },
  {
   "cell_type": "code",
   "execution_count": 20,
   "id": "517bfd00-da06-4379-a82b-06e5f256561f",
   "metadata": {},
   "outputs": [
    {
     "name": "stdout",
     "output_type": "stream",
     "text": [
      "Swapped tuple: (1, 4, 3, 2, 5)\n"
     ]
    }
   ],
   "source": [
    "#[Que.43] Swap two elements in a tuple.\n",
    "\n",
    "# Create a tuple\n",
    "my_tuple = (1, 2, 3, 4, 5)\n",
    "\n",
    "# Swap elements at indices 1 and 3\n",
    "index1 = 1\n",
    "index2 = 3\n",
    "swapped_tuple = tuple(\n",
    "    my_tuple[i] if i not in (index1, index2) else\n",
    "    my_tuple[index2] if i == index1 else\n",
    "    my_tuple[index1]\n",
    "    for i in range(len(my_tuple))\n",
    ")\n",
    "\n",
    "# Print the swapped tuple\n",
    "print(\"Swapped tuple:\", swapped_tuple)"
   ]
  },
  {
   "cell_type": "code",
   "execution_count": 24,
   "id": "4a8a009c-ee78-497e-8ff7-455784486b88",
   "metadata": {},
   "outputs": [
    {
     "name": "stdout",
     "output_type": "stream",
     "text": [
      "Reversed tuple: (7, 6, 1, 5, 4, 2)\n"
     ]
    }
   ],
   "source": [
    "#[Que.44] Reverse the elements of a tuple.\n",
    "\n",
    "# Create a tuple\n",
    "my_tuple = (2, 4, 5, 1, 6, 7)\n",
    "\n",
    "# Reverse the elements using slicing\n",
    "reversed_tuple = my_tuple[::-1]\n",
    "\n",
    "# Print the reversed tuple\n",
    "print(\"Reversed tuple:\", reversed_tuple)\n",
    "\n"
   ]
  },
  {
   "cell_type": "code",
   "execution_count": 25,
   "id": "fd26f5d9-cb77-48f6-8f34-4eced61fcd7b",
   "metadata": {},
   "outputs": [
    {
     "name": "stdout",
     "output_type": "stream",
     "text": [
      "Tuple of the first 5 powers of 2: (1, 2, 4, 8, 16)\n"
     ]
    }
   ],
   "source": [
    "#[Que.45] Create a tuple of the first n powers of 2.\n",
    "\n",
    "# Define the value of n\n",
    "n = 5\n",
    "\n",
    "# Create a tuple of the first n powers of 2 using a list comprehension\n",
    "powers_of_2_tuple = tuple(2 ** i for i in range(n))\n",
    "\n",
    "# Print the tuple of powers of 2\n",
    "print(\"Tuple of the first\", n , \"powers of 2:\", powers_of_2_tuple)\n",
    "\n"
   ]
  },
  {
   "cell_type": "code",
   "execution_count": 27,
   "id": "fef57a82-9f6d-430e-963e-6ebfa8a682ec",
   "metadata": {},
   "outputs": [
    {
     "name": "stdout",
     "output_type": "stream",
     "text": [
      "Longest string: waterlemon\n"
     ]
    }
   ],
   "source": [
    "#[Que.46] Find the longest string in a tuple of strings.\n",
    "\n",
    "# Create a tuple of strings\n",
    "string_tuple = (\"apple\", \"banana\", \"graphs\", \"kiwi\", \"waterlemon\")\n",
    "\n",
    "# Find the longest string in the tuple\n",
    "longest_string = max(string_tuple, key=len)\n",
    "\n",
    "# Print the longest string\n",
    "print(\"Longest string:\", longest_string)\n",
    "\n"
   ]
  },
  {
   "cell_type": "code",
   "execution_count": 28,
   "id": "b69a4c1a-9cce-423e-8a7a-7a9f909673dd",
   "metadata": {},
   "outputs": [
    {
     "name": "stdout",
     "output_type": "stream",
     "text": [
      "Shortest tuple: kiwi\n"
     ]
    }
   ],
   "source": [
    "#[Que.47] Find the shortest string in a tuple of strings.\n",
    "\n",
    "# Create a tuple of strings\n",
    "string_tuple = (\"apple\", \"banana\", \"grape\", \"kiwi\", \"watermelon\")\n",
    "\n",
    "# Find the shortest string in the tuple\n",
    "shortest_tuple = min(string_tuple, key=len)\n",
    "\n",
    "# Print the shortest string\n",
    "print(\"Shortest tuple:\", shortest_tuple)\n"
   ]
  },
  {
   "cell_type": "code",
   "execution_count": 29,
   "id": "8b77c2f5-277b-4966-bea1-89197f208bbf",
   "metadata": {},
   "outputs": [
    {
     "name": "stdout",
     "output_type": "stream",
     "text": [
      "Tuple of the first 5 triangular numbers: (1, 3, 6, 10, 15)\n"
     ]
    }
   ],
   "source": [
    "#[Que.48] Create a tuple of the first `n` triangular numbers.\n",
    "\n",
    "# Define the value of n\n",
    "n = 5\n",
    "\n",
    "# Create a tuple of the first n triangular numbers using a list comprehension\n",
    "triangular_numbers_tuple = tuple((i * (i + 1)) // 2 for i in range(1, n + 1))\n",
    "\n",
    "# Print the tuple of triangular numbers\n",
    "print(\"Tuple of the first\", n, \"triangular numbers:\", triangular_numbers_tuple)\n"
   ]
  },
  {
   "cell_type": "code",
   "execution_count": 31,
   "id": "96a69502-73b9-4ee6-b2b6-ba42fb5d5d96",
   "metadata": {},
   "outputs": [
    {
     "name": "stdout",
     "output_type": "stream",
     "text": [
      "Main tuple contains subsequence tuple: True\n"
     ]
    }
   ],
   "source": [
    "#[Que.49] Check if a tuple contains another tuple as a subsequence.\n",
    "\n",
    "# Function to check if a tuple contains another tuple as a subsequence\n",
    "def contains_subsequence(main_tuple, sub_tuple):\n",
    "    sub_length = len(sub_tuple)\n",
    "    for i in range(len(main_tuple) - sub_length + 1):\n",
    "        if main_tuple[i:i+sub_length] == sub_tuple:\n",
    "            return True\n",
    "    return False\n",
    "\n",
    "# Main tuple\n",
    "main_tuple = (1, 2, 3, 4, 5, 6, 7, 8, 9)\n",
    "\n",
    "# Subsequence tuple\n",
    "sub_tuple = (3, 4, 5)\n",
    "\n",
    "# Check if the main tuple contains the subsequence tuple\n",
    "contains_subsequence = contains_subsequence(main_tuple, sub_tuple)\n",
    "\n",
    "# Print the result\n",
    "print(\"Main tuple contains subsequence tuple:\", contains_subsequence)\n",
    "\n"
   ]
  },
  {
   "cell_type": "code",
   "execution_count": 32,
   "id": "9de245da-f049-4131-b50b-119f3aad1f4f",
   "metadata": {},
   "outputs": [
    {
     "name": "stdout",
     "output_type": "stream",
     "text": [
      "Tuple of alternating 1s and 0s: (0, 1, 0, 1, 0, 1, 0, 1, 0, 1)\n"
     ]
    }
   ],
   "source": [
    "#[Que.50] Create a tuple of alternating 1s and 0s of length n.\n",
    "\n",
    "n = 10\n",
    "\n",
    "alternating_numbers = tuple(i % 2 for i in range(n))\n",
    "\n",
    "print(\"Tuple of alternating 1s and 0s:\", alternating_numbers)"
   ]
  },
  {
   "cell_type": "code",
   "execution_count": 33,
   "id": "5c22a33f-bf8b-4754-9ae7-0d75309130f3",
   "metadata": {},
   "outputs": [],
   "source": [
    "# Set Based Problems :"
   ]
  },
  {
   "cell_type": "code",
   "execution_count": 34,
   "id": "7074d9f0-4439-4a03-9a7e-02d5294b504e",
   "metadata": {},
   "outputs": [
    {
     "name": "stdout",
     "output_type": "stream",
     "text": [
      "{1, 2, 3, 4, 5}\n"
     ]
    }
   ],
   "source": [
    "#[Que.1] Create a set with integers from 1 to 5.\n",
    "\n",
    "# Step 1: Create an empty set\n",
    "my_set = set()\n",
    "\n",
    "# Step 2: Add integers from 1 to 5 to the set\n",
    "my_set.add(1)\n",
    "my_set.add(2)\n",
    "my_set.add(3)\n",
    "my_set.add(4)\n",
    "my_set.add(5)\n",
    "\n",
    "# Step 3: Print the final set\n",
    "print(my_set) \n",
    "\n"
   ]
  },
  {
   "cell_type": "code",
   "execution_count": 35,
   "id": "e1f07af7-63dc-4627-8431-b4c73a902b8b",
   "metadata": {},
   "outputs": [
    {
     "name": "stdout",
     "output_type": "stream",
     "text": [
      "Original set: {1, 2, 3, 4, 5}\n",
      "Set after adding element: {1, 2, 3, 4, 5, 6}\n"
     ]
    }
   ],
   "source": [
    "#[Que.2] Add an element to a set.\n",
    "\n",
    "# Step 1: Create a set\n",
    "my_set = {1, 2, 3, 4, 5}\n",
    "\n",
    "# Step 2: Display the original set\n",
    "print(\"Original set:\", my_set)\n",
    "\n",
    "element_to_add  = 6\n",
    "my_set.add(element_to_add)\n",
    "\n",
    "print(\"Set after adding element:\", my_set)"
   ]
  },
  {
   "cell_type": "code",
   "execution_count": 36,
   "id": "c377bb51-0d3a-4e4d-8915-d7d1fdcbb823",
   "metadata": {},
   "outputs": [
    {
     "name": "stdout",
     "output_type": "stream",
     "text": [
      "Original set: {1, 2, 3, 4, 5}\n",
      "Set after removing 3 : {1, 2, 4, 5}\n"
     ]
    }
   ],
   "source": [
    "#[Que.3] Remove an element from a set.\n",
    "\n",
    "my_set = {1, 2, 3, 4, 5}\n",
    "\n",
    "print(\"Original set:\", my_set)\n",
    "\n",
    "element_to_remove = 3\n",
    "\n",
    "my_set.remove(element_to_remove)\n",
    "\n",
    "print(\"Set after removing\", element_to_remove,\":\", my_set)"
   ]
  },
  {
   "cell_type": "code",
   "execution_count": 37,
   "id": "d83c1a33-6158-4af0-9253-9c15b171ff27",
   "metadata": {},
   "outputs": [
    {
     "name": "stdin",
     "output_type": "stream",
     "text": [
      "Enter the element to check:  21\n"
     ]
    },
    {
     "name": "stdout",
     "output_type": "stream",
     "text": [
      "21 does not exist in the set.\n"
     ]
    }
   ],
   "source": [
    "#[Que.4] Check if an element exists in a set.\n",
    "\n",
    "my_set = {1, 3, 5, 6, 7, 9}\n",
    "\n",
    "element_to_check = int(input(\"Enter the element to check: \"))\n",
    "\n",
    "if element_to_check in my_set:\n",
    "    \n",
    "    print(f\"{element_to_check} exists in the set.\")\n",
    "    \n",
    "else:\n",
    "    print(f\"{element_to_check} does not exist in the set.\")"
   ]
  },
  {
   "cell_type": "code",
   "execution_count": 38,
   "id": "429d2112-42d3-4da0-86fc-fb9282735fc6",
   "metadata": {},
   "outputs": [
    {
     "name": "stdout",
     "output_type": "stream",
     "text": [
      "Length of the set: 5\n"
     ]
    }
   ],
   "source": [
    "#[Que.5] Find the length of a set without using the len() function.\n",
    "\n",
    "my_set = {1, 2, 4, 5, 6}\n",
    "\n",
    "count = 0\n",
    "\n",
    "for _ in my_set:\n",
    "    \n",
    "    count += 1\n",
    "    \n",
    "print(\"Length of the set:\", count)"
   ]
  },
  {
   "cell_type": "code",
   "execution_count": 39,
   "id": "476a43bf-ea1a-4d70-8e2b-d00563210677",
   "metadata": {},
   "outputs": [
    {
     "name": "stdout",
     "output_type": "stream",
     "text": [
      "Original set: {1, 2, 3, 4, 5}\n",
      "Set after clearing: set()\n"
     ]
    }
   ],
   "source": [
    "#[Que.6] Clear all elements from a set.\n",
    "\n",
    "my_set = {1, 2, 4, 5, 3}\n",
    "\n",
    "print(\"Original set:\", my_set)\n",
    "\n",
    "my_set.clear()\n",
    "\n",
    "print(\"Set after clearing:\", my_set)"
   ]
  },
  {
   "cell_type": "code",
   "execution_count": 40,
   "id": "c51f2c83-eadd-4d3c-b645-63fae2f77ce2",
   "metadata": {},
   "outputs": [
    {
     "name": "stdout",
     "output_type": "stream",
     "text": [
      "{2, 4, 6, 8, 10}\n"
     ]
    }
   ],
   "source": [
    "#[Que.7] Create a set of even numbers from 1 to 10.\n",
    "\n",
    "even_numbers_set = set()\n",
    "\n",
    "for num in range(1, 11):\n",
    "    \n",
    "    if num % 2 == 0:\n",
    "        \n",
    "        even_numbers_set.add(num)\n",
    "        \n",
    "print(even_numbers_set)"
   ]
  },
  {
   "cell_type": "code",
   "execution_count": 42,
   "id": "aa09cd65-c08a-42fa-b7b1-bbb2b9d2cdaa",
   "metadata": {},
   "outputs": [
    {
     "name": "stdout",
     "output_type": "stream",
     "text": [
      "{1, 3, 5, 7, 9}\n"
     ]
    }
   ],
   "source": [
    "#[Que.8] Create a set of odd numbers from 1 to 10.\n",
    "\n",
    "odd_numbers_set = set()\n",
    "\n",
    "for num in range(1, 11):\n",
    "    if num % 2 != 0:\n",
    "        odd_numbers_set.add(num)\n",
    "        \n",
    "print(odd_numbers_set)"
   ]
  },
  {
   "cell_type": "code",
   "execution_count": 43,
   "id": "84eb57d7-995a-40c2-94d0-c426538a1fd4",
   "metadata": {},
   "outputs": [
    {
     "name": "stdout",
     "output_type": "stream",
     "text": [
      "Set 1: {1, 2, 3, 4, 5}\n",
      "Set 2: {4, 5, 6, 7, 8}\n",
      "Union of set 1 and set 2: {1, 2, 3, 4, 5, 6, 7, 8}\n"
     ]
    }
   ],
   "source": [
    "#[Que.9] Find the union of two sets.\n",
    "\n",
    "set1 = {1, 2, 3, 4, 5}\n",
    "set2 = {4, 5, 6, 7, 8}\n",
    "\n",
    "union_result = set1.union(set2)\n",
    "\n",
    "print(\"Set 1:\", set1)\n",
    "print(\"Set 2:\", set2)\n",
    "print(\"Union of set 1 and set 2:\", union_result)"
   ]
  },
  {
   "cell_type": "code",
   "execution_count": 44,
   "id": "8a0d6df9-7951-4e05-889f-556d621f3e01",
   "metadata": {},
   "outputs": [
    {
     "name": "stdout",
     "output_type": "stream",
     "text": [
      "Set 1: {1, 2, 3, 4, 5}\n",
      "Set 2: {3, 4, 5, 6, 7}\n",
      "Intersection: {3, 4, 5}\n"
     ]
    }
   ],
   "source": [
    "#[Que.10] Find the intersection of two sets.\n",
    "\n",
    "set1 = {1, 2, 3, 4, 5}\n",
    "set2 = {3, 4, 5, 6, 7}\n",
    "\n",
    "intersection_result = set1.intersection(set2)\n",
    "\n",
    "print(\"Set 1:\", set1)\n",
    "print(\"Set 2:\", set2)\n",
    "print(\"Intersection:\",intersection_result)"
   ]
  },
  {
   "cell_type": "code",
   "execution_count": 45,
   "id": "9128b873-f235-406d-9900-2f962db87de2",
   "metadata": {},
   "outputs": [
    {
     "name": "stdout",
     "output_type": "stream",
     "text": [
      "Set 1: {1, 2, 3, 4, 5}\n",
      "Set 2: {3, 4, 5, 6, 7}\n",
      "Difference: {1, 2}\n"
     ]
    }
   ],
   "source": [
    "#[Que.11] Find the diffrence between two sets.\n",
    "\n",
    "set1 = {1, 2, 3, 4, 5}\n",
    "set2 = {3, 4, 5, 6, 7}\n",
    "\n",
    "differnce_set = set1.difference(set2)\n",
    "\n",
    "print(\"Set 1:\", set1)\n",
    "print(\"Set 2:\", set2)\n",
    "print(\"Difference:\", differnce_set)"
   ]
  },
  {
   "cell_type": "code",
   "execution_count": 46,
   "id": "be055e6a-34ae-4a78-8cb2-b0d3fa78c524",
   "metadata": {},
   "outputs": [
    {
     "name": "stdout",
     "output_type": "stream",
     "text": [
      "Is set1 a subset of set2: True\n"
     ]
    }
   ],
   "source": [
    "#[Que.12] Check if a set is a subset of another set.\n",
    "\n",
    "set1 = {1, 2, 3}\n",
    "set2 = {1, 2, 3, 4, 5}\n",
    "\n",
    "is_subset = set1.issubset(set2)\n",
    "\n",
    "print(\"Is set1 a subset of set2:\", is_subset)"
   ]
  },
  {
   "cell_type": "code",
   "execution_count": 47,
   "id": "32f738a9-f34c-44f1-bcde-d70fda94c966",
   "metadata": {},
   "outputs": [
    {
     "name": "stdout",
     "output_type": "stream",
     "text": [
      "set1 is a superset of set2\n"
     ]
    }
   ],
   "source": [
    "#[Que.13] Check if a set is a superset of another set.\n",
    "\n",
    "set1 = {1, 2, 3, 4, 5, 6}\n",
    "set2 = {3, 4}\n",
    "\n",
    "is_superset = set1.issuperset(set2)\n",
    "\n",
    "if is_superset:\n",
    "    print(\"set1 is a superset of set2\")\n",
    "else:\n",
    "    print(\"set1 is not a superset of set2\")"
   ]
  },
  {
   "cell_type": "code",
   "execution_count": 48,
   "id": "d979994e-1fdf-4377-aee7-ee639af46340",
   "metadata": {},
   "outputs": [
    {
     "name": "stdout",
     "output_type": "stream",
     "text": [
      "Original list: [2, 3, 2, 1, 4, 6, 4, 5]\n",
      "Set from list: {1, 2, 3, 4, 5, 6}\n"
     ]
    }
   ],
   "source": [
    "#[Que.14] Create a set from a list.\n",
    "\n",
    "my_list = [2, 3, 2, 1, 4, 6, 4, 5]\n",
    "\n",
    "\n",
    "my_set = set(my_list)\n",
    "\n",
    "print(\"Original list:\",my_list)\n",
    "print(\"Set from list:\", my_set)"
   ]
  },
  {
   "cell_type": "code",
   "execution_count": 49,
   "id": "69a38c3b-c4bf-4561-b85b-41cbf1ad7cd6",
   "metadata": {},
   "outputs": [
    {
     "name": "stdout",
     "output_type": "stream",
     "text": [
      "Original set: {1, 2, 3, 4, 5, 6, 7, 8, 9}\n",
      "Converted List: [1, 2, 3, 4, 5, 6, 7, 8, 9]\n"
     ]
    }
   ],
   "source": [
    "#[Que.15] Convert a set to a list.\n",
    "\n",
    "my_set = {3, 2, 4, 5, 5, 6, 7, 8, 9, 1}\n",
    "\n",
    "my_list = list(my_set)\n",
    "\n",
    "\n",
    "print(\"Original set:\", my_set)\n",
    "print(\"Converted List:\", my_list)"
   ]
  },
  {
   "cell_type": "code",
   "execution_count": 51,
   "id": "92537dd1-e0aa-48cd-a2b4-9aa468580351",
   "metadata": {},
   "outputs": [
    {
     "name": "stdout",
     "output_type": "stream",
     "text": [
      "Original set: {1, 2, 3, 4, 5}\n",
      "Updated set after removing 2 : {1, 3, 4, 5}\n"
     ]
    }
   ],
   "source": [
    "#[Que.16] Remove a random element from a set.\n",
    "\n",
    "import random\n",
    "\n",
    "my_set = {1, 2, 3, 4, 5}\n",
    "\n",
    "print(\"Original set:\", my_set)\n",
    "\n",
    "random_element = random.choice(list(my_set))\n",
    "\n",
    "my_set.remove(random_element)\n",
    "\n",
    "print(\"Updated set after removing\", random_element,\":\", my_set)"
   ]
  },
  {
   "cell_type": "code",
   "execution_count": 53,
   "id": "8a1344d6-f20b-445b-931a-1a66b9336394",
   "metadata": {},
   "outputs": [
    {
     "name": "stdout",
     "output_type": "stream",
     "text": [
      "Original set: {1, 3, 4, 5}\n",
      "Popped element: 1\n",
      "Set after popping: {3, 4, 5}\n"
     ]
    }
   ],
   "source": [
    "#[Que.17] Pop an element from a set.\n",
    "\n",
    "# Create a set with some elements\n",
    "my_set - {1, 2, 3, 4, 5}\n",
    "\n",
    "# Print the original set\n",
    "print(\"Original set:\", my_set)\n",
    "\n",
    "# Pop an element from the set using the pop() method\n",
    "popped_element = my_set.pop()\n",
    "\n",
    "# Print the element that was popped\n",
    "print(\"Popped element:\", popped_element)\n",
    "\n",
    "# Print the set after popping an element\n",
    "print(\"Set after popping:\", my_set)"
   ]
  },
  {
   "cell_type": "code",
   "execution_count": 5,
   "id": "99d75588-9bec-4c7f-a817-58b9ddf99e61",
   "metadata": {},
   "outputs": [
    {
     "name": "stdout",
     "output_type": "stream",
     "text": [
      "The two sets have no elements in common.\n"
     ]
    }
   ],
   "source": [
    "#[Que.18] Check if two sets have no elements in common.\n",
    "\n",
    "# Step 1: Define two sets\n",
    "set1 = {1, 2, 3, 4}\n",
    "set2 = {5, 6, 7, 8}\n",
    "\n",
    "# Step 2: Check if the intersection of the two sets is empty\n",
    "# The intersection is the set of elements that are common to both sets\n",
    "common_elements = set1.intersection(set2)\n",
    "\n",
    "\n",
    "# Step 3: Check if the common_elements set is empty\n",
    "if not common_elements:\n",
    "    print(\"The two sets have no elements in common.\")\n",
    "else:\n",
    "    print(\"The two sets have common elements:\", commonelements)\n",
    "    \n",
    "    "
   ]
  },
  {
   "cell_type": "code",
   "execution_count": 6,
   "id": "cb6cb79e-b97b-4743-af61-1ad62fb44f9a",
   "metadata": {},
   "outputs": [
    {
     "name": "stdout",
     "output_type": "stream",
     "text": [
      "Symmetric Difference: {1, 2, 3, 6, 7, 8}\n"
     ]
    }
   ],
   "source": [
    "#[Que.19] Find the symmetric difference beetween two sets.\n",
    "\n",
    "# Define two sets\n",
    "set1 = {1, 2, 3, 4, 5}\n",
    "set2 = {4, 5, 6, 7, 8}\n",
    "\n",
    "# Calculate the symmetric difference using the ^ operator\n",
    "symmetric_difference = set1 ^ set2\n",
    "\n",
    "# Print the symmetric difference\n",
    "print(\"Symmetric Difference:\", symmetric_difference)\n"
   ]
  },
  {
   "cell_type": "code",
   "execution_count": 7,
   "id": "84ba1d69-5cdb-4c95-8792-ed3a1c6fe8c6",
   "metadata": {},
   "outputs": [
    {
     "name": "stdout",
     "output_type": "stream",
     "text": [
      "Set 1: {1, 2, 3}\n",
      "Set 2: {3, 4, 5}\n",
      "Updated set 1: {1, 2, 3, 4, 5}\n"
     ]
    }
   ],
   "source": [
    "#[Que.20] Update a set with elements from another set.\n",
    "\n",
    "# Create the first set\n",
    "set1 = {1, 2, 3}\n",
    "print(\"Set 1:\", set1)\n",
    "\n",
    "# Create the second set\n",
    "set2 = {3, 4, 5}\n",
    "print(\"Set 2:\", set2)\n",
    "\n",
    "# Update set1 with elements from set2\n",
    "set1.update(set2)\n",
    "print(\"Updated set 1:\", set1)"
   ]
  },
  {
   "cell_type": "code",
   "execution_count": 9,
   "id": "e9692230-a69d-42ef-990e-6b398bb25e32",
   "metadata": {},
   "outputs": [
    {
     "name": "stdout",
     "output_type": "stream",
     "text": [
      "Set of the first 5 prime numbers: {2, 3, 5, 7, 11}\n"
     ]
    }
   ],
   "source": [
    "#[Que.21] Create a set of the first 5 prime numbers.\n",
    "\n",
    "# Function to check if a number is prime\n",
    "def is_prime(num):\n",
    "    if num <= 1:\n",
    "        return False\n",
    "    for i in range(2, int(num ** 0.5) + 1):\n",
    "        if num % i == 0:\n",
    "            return False\n",
    "    return True\n",
    "\n",
    "# Create an empty set to store the prime numbers\n",
    "prime_set = set()\n",
    "\n",
    "# Initialize the number to start checking for primes\n",
    "num = 2\n",
    "\n",
    "# Loop until we have found the first 5 prime numbers\n",
    "while len(prime_set) < 5:\n",
    "    # Check if the current number is prime using the is_prime function\n",
    "    if is_prime(num):\n",
    "        # If the number is prime, add it to the prime_set   \n",
    "        prime_set.add(num)\n",
    "    \n",
    "     # Move on to the next number for the next iteration\n",
    "    num += 1\n",
    "\n",
    "# Print the set of prime numbers\n",
    "print(\"Set of the first 5 prime numbers:\", prime_set)\n"
   ]
  },
  {
   "cell_type": "code",
   "execution_count": 10,
   "id": "30772bfd-aabd-4663-9ca9-92f7a801d11e",
   "metadata": {},
   "outputs": [
    {
     "name": "stdout",
     "output_type": "stream",
     "text": [
      "The sets are identical.\n"
     ]
    }
   ],
   "source": [
    "#[Que.22] Check if two sets are identical.\n",
    "\n",
    "# Step 1: Define two sets\n",
    "set1 = {1, 2, 3, 4, 5}\n",
    "set2 = {3, 1, 5, 4, 2} # The order of elements doesn't matter in sets\n",
    "\n",
    "# Step 2: Check if the sets are identical using the `==` operator\n",
    "# Sets are unordered collections, so the order of elements doesn't matter.\n",
    "# The `==` operator compares the content of the sets.\n",
    "if set1 == set2:\n",
    "    print(\"The sets are identical.\")\n",
    "else:\n",
    "    print(\"The sets are not identical.\")\n",
    "    "
   ]
  },
  {
   "cell_type": "code",
   "execution_count": 11,
   "id": "34eaa68e-5b2c-4f07-a356-22ea6edd44eb",
   "metadata": {},
   "outputs": [
    {
     "name": "stdout",
     "output_type": "stream",
     "text": [
      "Frozen set: frozenset({1, 2, 3, 4, 5})\n"
     ]
    }
   ],
   "source": [
    "#[Que.23] Create a frozen set.\n",
    "\n",
    "# Step 2: Define a list of elements that you want to include in the frozen set\n",
    "elements = [1, 2, 3, 4, 5]\n",
    "\n",
    "# Step 3: Create a frozen set using the 'frozenset' constructor and passing the list of elements\n",
    "my_frozen_set = frozenset(elements)\n",
    "\n",
    "# Step 4: Print the frozen set\n",
    "print(\"Frozen set:\", my_frozen_set)"
   ]
  },
  {
   "cell_type": "code",
   "execution_count": 13,
   "id": "17d516dd-3082-4963-887c-6e09645de95c",
   "metadata": {},
   "outputs": [
    {
     "name": "stdout",
     "output_type": "stream",
     "text": [
      "Are the sets disjoint? True\n"
     ]
    }
   ],
   "source": [
    "#[Que.24] Check if a set is disjoint with another set.\n",
    "\n",
    "# Step 1: Define the two sets you want to check for disjointness\n",
    "set1 = {1, 2, 3, 4}\n",
    "set2 = {5, 6, 7, 8}\n",
    "\n",
    "# Step 2: Use the `isdisjoint()` method to check if the sets are disjoint\n",
    "# The `isdisjoint()` method returns True if the sets have no common elements,\n",
    "# and False if they have at least one common element.\n",
    "disjoint_status = set1.isdisjoint(set2)\n",
    "\n",
    "# Step 3: Print the result\n",
    "print(\"Are the sets disjoint?\", disjoint_status)\n"
   ]
  },
  {
   "cell_type": "code",
   "execution_count": 17,
   "id": "d476c1aa-d34f-4a43-b358-bbd4e61ea6e2",
   "metadata": {},
   "outputs": [
    {
     "name": "stdout",
     "output_type": "stream",
     "text": [
      "{1, 4, 9, 16, 25}\n"
     ]
    }
   ],
   "source": [
    "#[Que.25] Create a set of squares of numbers from 1 to 5.\n",
    "\n",
    "# Step 1: Create an empty set to store the squares of numbers\n",
    "squares_set = set()\n",
    "\n",
    "# Step 2: Use a loop to iterate through numbers from 1 to 5\n",
    "for num in range(1, 6):\n",
    "     # Step 3: Calculate the square of the current number\n",
    "    square = num ** 2\n",
    "    \n",
    "    # Step 4: Add the square to the set\n",
    "    squares_set.add(square)\n",
    " \n",
    " # Step 5: Print the set of squares\n",
    "print(squares_set)\n"
   ]
  },
  {
   "cell_type": "code",
   "execution_count": 18,
   "id": "7df72b6c-047d-4e5c-a6db-8e97f6ed1e89",
   "metadata": {},
   "outputs": [
    {
     "name": "stdout",
     "output_type": "stream",
     "text": [
      "Original set: {1, 2, 3, 4, 5}\n",
      "Even numbers set: {2, 4}\n"
     ]
    }
   ],
   "source": [
    "#[Que.26] Filter out all even numbers from a set.\n",
    "\n",
    "original_set = {1, 2, 3, 4, 5}\n",
    "\n",
    "even_numbers_set = set()\n",
    "\n",
    "for num in original_set:\n",
    "    \n",
    "    if num % 2 == 0:\n",
    "        \n",
    "        even_numbers_set.add(num)\n",
    "        \n",
    "print(\"Original set:\", original_set)\n",
    "print(\"Even numbers set:\", even_numbers_set)"
   ]
  },
  {
   "cell_type": "code",
   "execution_count": 20,
   "id": "bea03c11-316f-415e-b4e3-6c9eeb50d432",
   "metadata": {},
   "outputs": [
    {
     "name": "stdout",
     "output_type": "stream",
     "text": [
      "Original set: {1, 2, 3, 4, 5}\n",
      "Multiplied set: {2, 4, 6, 8, 10}\n"
     ]
    }
   ],
   "source": [
    "#[Que.27] Multiply all elements in a set by 2.\n",
    "\n",
    "original_set = {1, 2, 3, 4, 5}\n",
    "\n",
    "multiplied_set = set()\n",
    "\n",
    "for num in original_set:\n",
    "    \n",
    "    multiplied_num = num * 2\n",
    "    \n",
    "    multiplied_set.add(multiplied_num)\n",
    "    \n",
    "print(\"Original set:\", original_set)\n",
    "\n",
    "print(\"Multiplied set:\", multiplied_set)"
   ]
  },
  {
   "cell_type": "code",
   "execution_count": 22,
   "id": "447b5917-cfca-4076-9d00-03ccccdba942",
   "metadata": {},
   "outputs": [
    {
     "name": "stdout",
     "output_type": "stream",
     "text": [
      "Generated set of random numbers: {100, 76, 77, 18, 30}\n"
     ]
    }
   ],
   "source": [
    "#[Que.28] Create a set of random numbers.\n",
    "\n",
    "import random\n",
    "\n",
    "num_random_numbers = 5\n",
    "\n",
    "random_number_set = set()\n",
    "\n",
    "for _ in range(num_random_numbers):\n",
    "    \n",
    "    random_num = random.randint(1, 100)\n",
    "    \n",
    "    random_number_set.add(random_num)\n",
    "    \n",
    "print(\"Generated set of random numbers:\", random_number_set)"
   ]
  },
  {
   "cell_type": "code",
   "execution_count": 24,
   "id": "5f597e08-629a-4355-8073-6fd7d04713de",
   "metadata": {},
   "outputs": [
    {
     "name": "stdout",
     "output_type": "stream",
     "text": [
      "The set is empty\n"
     ]
    }
   ],
   "source": [
    "#[Que.29] Check if a set is empty.\n",
    "\n",
    "# Step 1: Create a set (you can replace this with your own set)\n",
    "my_set = set()\n",
    "\n",
    "# Step 2: Check if the set is empty using the 'if' statement\n",
    "if not my_set:\n",
    "    print(\"The set is empty\")\n",
    "else:\n",
    "     print(\"The set is not empty\")     "
   ]
  },
  {
   "cell_type": "code",
   "execution_count": 26,
   "id": "3b2cb3cb-1afd-43af-a5ef-ace5fd60c9f5",
   "metadata": {},
   "outputs": [
    {
     "name": "stdout",
     "output_type": "stream",
     "text": [
      "Nested set: {frozenset({1, 2, 3, 4, 5}), frozenset({6, 7, 8, 9, 10})}\n"
     ]
    }
   ],
   "source": [
    "#[Que.30] Create a nested set (hint: use frozenset).\n",
    "\n",
    "# Step 1: Create the inner sets\n",
    "set1 = {1, 2, 3, 4, 5}\n",
    "set2 = {6, 7, 8, 9, 10}\n",
    "\n",
    "# Step 2: Create frozensets from the inner sets\n",
    "frozen_set1 = frozenset(set1)\n",
    "frozen_set2 = frozenset(set2)\n",
    "\n",
    "# Step 3: Create the nested set using the frozensets\n",
    "nested_set = {frozen_set1, frozen_set2}\n",
    "\n",
    "# Print the nested set\n",
    "print(\"Nested set:\", nested_set)"
   ]
  },
  {
   "cell_type": "code",
   "execution_count": 1,
   "id": "c6b77d11-af9a-4f5b-9478-5e463cd99bfb",
   "metadata": {},
   "outputs": [
    {
     "name": "stdout",
     "output_type": "stream",
     "text": [
      "Initial set: {1, 2, 3, 4, 5}\n",
      "Set after removing 3 : {1, 2, 4, 5}\n"
     ]
    }
   ],
   "source": [
    "#[Que.31] Remove an element from a set using the discard method.\n",
    "\n",
    "# Create a set with some elements\n",
    "my_set = {1, 2, 3, 4, 5}\n",
    "\n",
    "# Display the initial set\n",
    "print(\"Initial set:\", my_set)\n",
    "\n",
    "# Define the element to be removed\n",
    "element_to_remove = 3\n",
    "\n",
    "# Use the discard() method to remove the element from the set\n",
    "# If the element is not present in the set, discard() won't raise an error\n",
    "my_set.discard(element_to_remove)\n",
    "\n",
    "# Display the set after removing the element\n",
    "print(\"Set after removing\", element_to_remove, \":\", my_set)\n",
    "\n"
   ]
  },
  {
   "cell_type": "code",
   "execution_count": 4,
   "id": "3f4a2e76-dedd-4a77-b818-62c049cd1541",
   "metadata": {},
   "outputs": [
    {
     "name": "stdout",
     "output_type": "stream",
     "text": [
      "Set 1: {1, 2, 3, 4, 5}\n",
      "Set 2: {4, 5, 6, 7, 8}\n",
      "Is set1 a subset of set2: False\n",
      "Is set2 a subset of set1: False\n",
      "Intersection: {4, 5}\n",
      "Union: {1, 2, 3, 4, 5, 6, 7, 8}\n",
      "Elements in set1 but not set2: {1, 2, 3}\n",
      "Elements is set2 but not set1: {8, 6, 7}\n"
     ]
    }
   ],
   "source": [
    "#[Que.32] Compare two sets.\n",
    "\n",
    "# Step 1: Define two sets\n",
    "set1 = {1, 2, 3, 4, 5}\n",
    "set2 = {4, 5, 6, 7, 8}\n",
    "\n",
    "# Step 2: Use set operations to compare the sets\n",
    "# Check if set1 is a subset of set2\n",
    "is_subset = set1.issubset(set2)\n",
    "\n",
    "# Check if set2 is a subset of set1\n",
    "is_superset = set1.issuperset(set2)\n",
    "\n",
    "# Find the intersection of the sets\n",
    "intersection = set1.intersection(set2)\n",
    "\n",
    "# Find the union of the sets\n",
    "union = set1.union(set2)\n",
    "\n",
    "# Find the elements that are in set1 but not in set2\n",
    "difference1 = set1.difference(set2)\n",
    "\n",
    "# Find the elements that are in set2 but not in set1\n",
    "difference2 = set2.difference(set1)\n",
    "\n",
    "# Step 3: Print the results\n",
    "print(\"Set 1:\", set1)\n",
    "print(\"Set 2:\", set2)\n",
    "print(\"Is set1 a subset of set2:\", is_subset)\n",
    "print(\"Is set2 a subset of set1:\", is_superset)\n",
    "print(\"Intersection:\", intersection)\n",
    "print(\"Union:\", union)\n",
    "print(\"Elements in set1 but not set2:\", difference1)\n",
    "print(\"Elements is set2 but not set1:\", difference2)"
   ]
  },
  {
   "cell_type": "code",
   "execution_count": 7,
   "id": "c70a1854-e040-4240-a168-407a26bef844",
   "metadata": {},
   "outputs": [
    {
     "name": "stdout",
     "output_type": "stream",
     "text": [
      "{'e', 'r', 'o', 's'}\n"
     ]
    }
   ],
   "source": [
    "#[Que.33] Create a set from a string.\n",
    "\n",
    "# Step 1: Define the input string\n",
    "input_string = \"rose\"\n",
    "\n",
    "# Step 2: Use the set() constructor to create a set from the characters in the string\n",
    "char_set = set(input_string)\n",
    "\n",
    "# Step 3: Print the resulting set\n",
    "print(char_set)\n"
   ]
  },
  {
   "cell_type": "code",
   "execution_count": 9,
   "id": "85cde84d-b9a1-4c1d-81dc-27f2faed0113",
   "metadata": {},
   "outputs": [
    {
     "name": "stdout",
     "output_type": "stream",
     "text": [
      "Original string set: {'456', '123', '789'}\n",
      "Converted Integer set: {456, 123, 789}\n"
     ]
    }
   ],
   "source": [
    "#[Que.34] Convert a set of string to a set of integers.\n",
    "\n",
    "# Step 1: Create a set of strings\n",
    "string_set = {\"123\", \"456\", \"789\"}\n",
    "\n",
    "# Step 2: Initialize an empty set to store integers\n",
    "integer_set = set()\n",
    "\n",
    "# Step 3: Iterate through each string in the string set\n",
    "for string in string_set:\n",
    "    # Step 4: Convert the string to an integer using the int() function\n",
    "    integer_value = int(string)\n",
    "    \n",
    "    # Step 5: Add the integer to the integer set\n",
    "    integer_set.add(integer_value)\n",
    "\n",
    "# Step 6: Print the original string set and the converted integer set\n",
    "print(\"Original string set:\", string_set)\n",
    "print(\"Converted Integer set:\", integer_set)"
   ]
  },
  {
   "cell_type": "code",
   "execution_count": 11,
   "id": "9b4705c9-5ab9-4636-8996-03edfdb48302",
   "metadata": {},
   "outputs": [
    {
     "name": "stdout",
     "output_type": "stream",
     "text": [
      "Original integers_set: {1, 2, 3, 4, 5}\n",
      "Converted strings_set: {'2', '4', '3', '5', '1'}\n"
     ]
    }
   ],
   "source": [
    "#[Que.35] Convert a set of integers to a set of strings.\n",
    "\n",
    "# Step 1: Create a set of integers\n",
    "integers_set = {1, 2, 3, 4, 5}\n",
    "\n",
    "# Step 2: Initialize an empty set to store the strings\n",
    "strings_set = set()\n",
    "\n",
    "# Step 3: Iterate through each integer in the integers_set\n",
    "for num in integers_set:\n",
    "    # Step 4: Convert the integer to a string using the str() function\n",
    "    num_str = str(num)\n",
    "    # Step 5: Add the string representation to the strings_set\n",
    "    strings_set.add(num_str)\n",
    "   \n",
    "\n",
    " # Step 6: Print the original integers_set and the converted strings_set\n",
    "print(\"Original integers_set:\", integers_set)\n",
    "print(\"Converted strings_set:\", strings_set)\n"
   ]
  },
  {
   "cell_type": "code",
   "execution_count": 13,
   "id": "68a06a47-690c-49a1-9681-fb4659370159",
   "metadata": {},
   "outputs": [
    {
     "name": "stdout",
     "output_type": "stream",
     "text": [
      "{1, 2, 3, 4, 5, 6, 7}\n"
     ]
    }
   ],
   "source": [
    "#[Que.36] Create a set from a tuple.\n",
    "\n",
    "# Given tuple\n",
    "input_tuple = (1, 2, 3, 5, 6, 4,  7, 3)\n",
    "\n",
    "# Step 1: Convert the tuple to a set\n",
    "output_set = set(input_tuple)\n",
    "# At this point, the set() function is used to convert the elements of the tuple into a set.\n",
    "# Since sets only contain unique elements, duplicate values are automatically removed.\n",
    "\n",
    "# Step 2: Print the resulting set\n",
    "print(output_set)\n",
    "# The set is now printed, and it will only contain the unique elements from the original tuple.\n"
   ]
  },
  {
   "cell_type": "code",
   "execution_count": 16,
   "id": "07f0d265-05d8-4a55-b737-b801691a60cf",
   "metadata": {},
   "outputs": [
    {
     "name": "stdout",
     "output_type": "stream",
     "text": [
      "Original set: {1, 2, 3, 4, 5, 6}\n",
      "Converted tuple: (1, 2, 3, 4, 5, 6)\n"
     ]
    }
   ],
   "source": [
    "#[Que.37] Convert a set to a tuple.\n",
    "\n",
    "# Step 1: Create a set\n",
    "input_set = {1, 2, 3, 4, 5, 6}\n",
    "\n",
    "# Step 2: Convert the set to a tuple\n",
    "output_tuple = tuple(input_set)\n",
    "\n",
    "# Step 3: Print the original set and the converted tuple\n",
    "print(\"Original set:\", input_set)\n",
    "print(\"Converted tuple:\", output_tuple)\n"
   ]
  },
  {
   "cell_type": "code",
   "execution_count": 17,
   "id": "7eacc094-5595-45f5-8f8d-66fabef64710",
   "metadata": {},
   "outputs": [
    {
     "name": "stdout",
     "output_type": "stream",
     "text": [
      "Maximum value: 65\n"
     ]
    }
   ],
   "source": [
    "#[Que.38] Find the maximum value in a set.\n",
    "\n",
    "# Define a set with some values\n",
    "my_set = {12, 43, 23, 55 ,34, 65}\n",
    "\n",
    "# Initialize a variable to store the maximum value\n",
    "max_value = None\n",
    "\n",
    "# Iterate through each element in the set\n",
    "for num in my_set:\n",
    "    # Check if max_value is None (first iteration) or if the current number is greater than max_value\n",
    "    if max_value is None or num > max_value:\n",
    "        max_value = num  # Update max_value with the current number if it's greater\n",
    "        \n",
    " # Print the maximum value       \n",
    "print(\"Maximum value:\", max_value)\n",
    "\n"
   ]
  },
  {
   "cell_type": "code",
   "execution_count": 19,
   "id": "eae92e39-afe0-4912-b5ae-12310789eff2",
   "metadata": {},
   "outputs": [
    {
     "name": "stdout",
     "output_type": "stream",
     "text": [
      "The minimum value in the set is: 2\n"
     ]
    }
   ],
   "source": [
    "#[Que.39] Find the minimum value in a set.\n",
    "\n",
    "# Create a sample set of numbers\n",
    "number_set = {12, 3, 54, 32, 2, 21, 11}\n",
    "\n",
    "# Initialize a variable to store the minimum value\n",
    "min_value = None\n",
    "\n",
    "# Iterate through each element in the set\n",
    "for num in number_set:\n",
    "    # Check if min_value is None (first iteration) or if num is smaller than the current min_value\n",
    "    if min_value is None or num < min_value:\n",
    "        # Update min_value to the current num since it's smaller\n",
    "         min_value = num\n",
    "        \n",
    " #Print the minimum value found in the set\n",
    "print(\"The minimum value in the set is:\", min_value)"
   ]
  },
  {
   "cell_type": "code",
   "execution_count": 20,
   "id": "3fe6440a-2973-4369-8908-344180e72178",
   "metadata": {},
   "outputs": [
    {
     "name": "stdout",
     "output_type": "stream",
     "text": [
      "Enter elements for the set (type 'done' to finish):\n"
     ]
    },
    {
     "name": "stdin",
     "output_type": "stream",
     "text": [
      ">  abhishek, pwwallah, jason\n",
      ">  done\n"
     ]
    },
    {
     "name": "stdout",
     "output_type": "stream",
     "text": [
      "Final set: {'abhishek, pwwallah, jason'}\n"
     ]
    }
   ],
   "source": [
    "#[Que.40] Create a set from user input.\n",
    "\n",
    "# Step 1: Initialize an empty set\n",
    "user_set = set()\n",
    "\n",
    "# Step 2: Get input from the user\n",
    "print(\"Enter elements for the set (type 'done' to finish):\")\n",
    "while True:\n",
    "    user_input = input(\"> \")  # Get input from the user\n",
    "    \n",
    "    if user_input.lower() == 'done':\n",
    "        break  # Exit the loop if the user enters 'done'\n",
    "        \n",
    "    # Step 3: Add the user input to the set     \n",
    "    user_set.add(user_input)\n",
    "    \n",
    "# Step 4: Display the final set created from user input\n",
    "print(\"Final set:\", user_set)\n"
   ]
  },
  {
   "cell_type": "code",
   "execution_count": 21,
   "id": "0eaf2e27-ec71-4fb0-b700-2c0f26fb2be3",
   "metadata": {},
   "outputs": [
    {
     "name": "stdout",
     "output_type": "stream",
     "text": [
      "The intersection of the two sets is not empty.\n"
     ]
    }
   ],
   "source": [
    "#[Que.41] Check if the intersection of two sets is empty.\n",
    "\n",
    "# Step 1: Define two sets\n",
    "set1 = {1, 2, 3, 4, 5}\n",
    "set2 = {4, 3, 2, 5, 6}\n",
    "\n",
    "# Step 2: Find the intersection of the two sets using the `intersection()` method\n",
    "intersection_result = set1.intersection(set2)\n",
    "\n",
    "# Step 3: Check if the intersection result is empty\n",
    "if not intersection_result:\n",
    "    print(\"The intersection of the two sets is empty.\")\n",
    "else:\n",
    "    print(\"The intersection of the two sets is not empty.\")"
   ]
  },
  {
   "cell_type": "code",
   "execution_count": 22,
   "id": "8675d591-85cd-4cf7-8831-81be1108e180",
   "metadata": {},
   "outputs": [
    {
     "name": "stdout",
     "output_type": "stream",
     "text": [
      "Set of the first 5 fibonacci numbers: {0, 1, 2, 3, 5}\n"
     ]
    }
   ],
   "source": [
    "#[Que.42] Create a set of the first 5 Fibonacci numbers.\n",
    "\n",
    "# Create a set to store the first 5 Fibonacci numbers\n",
    "fibonacci_set = set()\n",
    "\n",
    "# Initialize the first two Fibonacci numbers\n",
    "a, b = 0, 1\n",
    "\n",
    "# Loop to generate the first 5 Fibonacci numbers\n",
    "for _ in range(6):\n",
    "     # Add the current Fibonacci number to the set\n",
    "    fibonacci_set.add(a)\n",
    "     # Calculate the next Fibonacci number\n",
    "    a, b = b, a + b\n",
    "\n",
    "  # Print the set of Fibonacci numbers  \n",
    "print(\"Set of the first 5 fibonacci numbers:\", fibonacci_set)\n"
   ]
  },
  {
   "cell_type": "code",
   "execution_count": 24,
   "id": "e11737e2-7b99-499a-a23d-82f1a8e2797f",
   "metadata": {},
   "outputs": [
    {
     "name": "stdout",
     "output_type": "stream",
     "text": [
      "Original list: [2, 4, 6, 8, 10, 2, 6, 8, 14, 16]\n",
      "List with Duplicates removed: [2, 4, 6, 8, 10, 14, 16]\n"
     ]
    }
   ],
   "source": [
    "#[Que.43] Remove dublicates from aa list using sets.\n",
    "\n",
    "# Step 1: Define a list with duplicates\n",
    "original_list = [2, 4, 6, 8, 10, 2, 6, 8, 14, 16]\n",
    "\n",
    "# Step 2: Convert the list to a set\n",
    "unique_set = set(original_list)\n",
    "# Now, 'unique_set' contains only unique elements from 'original_list'\n",
    "\n",
    "# Step 3: Convert the set back to a list\n",
    "unique_list = list(unique_set)\n",
    "# Now, 'unique_list' is a list containing only unique elements\n",
    "\n",
    "# Step 4: Print the original list and the list with duplicates removed\n",
    "print(\"Original list:\", original_list)\n",
    "print(\"List with Duplicates removed:\", unique_list)\n"
   ]
  },
  {
   "cell_type": "code",
   "execution_count": 25,
   "id": "182b3eb3-11a8-4fd1-84bf-e14d10b18fe4",
   "metadata": {},
   "outputs": [
    {
     "name": "stdout",
     "output_type": "stream",
     "text": [
      "The sets have the same elements.\n"
     ]
    }
   ],
   "source": [
    "#[Que.44] Check if two sets have the same elements,regardless of their count.\n",
    "\n",
    "def have_same_elements(set1, set2):\n",
    "    # Convert the sets to lists and sort them\n",
    "    sorted_list1 = sorted(list(set1))\n",
    "    sorted_list2 = sorted(list(set2))\n",
    "    \n",
    "    # Compare the sorted lists to check if they are equal\n",
    "    return sorted_list1 == sorted_list2\n",
    "\n",
    "# Example sets\n",
    "set1 = {1, 2, 3, 2, 1}\n",
    "set2 = {3, 1, 2}\n",
    "\n",
    "# Check if the sets have the same elements\n",
    "result = have_same_elements(set1, set2)\n",
    "\n",
    "# Print the result\n",
    "if result:\n",
    "    print(\"The sets have the same elements.\")\n",
    "else:\n",
    "    print(\"The sets do not have the same elements.\")\n",
    "    \n",
    "    "
   ]
  },
  {
   "cell_type": "code",
   "execution_count": 27,
   "id": "720b9350-cf0e-4477-a655-36926b18a535",
   "metadata": {},
   "outputs": [
    {
     "name": "stdout",
     "output_type": "stream",
     "text": [
      "{1, 2, 4, 8, 16}\n"
     ]
    }
   ],
   "source": [
    "#{Que.45} Create a set of the first n powers of 2.\n",
    "\n",
    "def generate_powers_of_2(n):\n",
    "   # Initialize an empty set to store the powers of 2 \n",
    "    powers_of_2 = set()\n",
    "     # Loop from 0 to n-1\n",
    "    for i in range(n):\n",
    "         # Calculate the current power of 2 using the exponentiation operator **\n",
    "        power = 2 ** i\n",
    "       \n",
    "       # Add the current power of 2 to the set\n",
    "        powers_of_2.add(power)\n",
    "    \n",
    "    # Return the set of powers of 2    \n",
    "    return powers_of_2\n",
    "\n",
    "# Define the value of n\n",
    "n = 5\n",
    "\n",
    "# Call the function to generate the set of powers of 2\n",
    "power_set = generate_powers_of_2(n)\n",
    "\n",
    "# Print the resulting set\n",
    "print(power_set)\n"
   ]
  },
  {
   "cell_type": "code",
   "execution_count": 31,
   "id": "a5583643-1b59-44b6-90f4-0eb06dd0acf2",
   "metadata": {},
   "outputs": [
    {
     "name": "stdout",
     "output_type": "stream",
     "text": [
      "Common elements: [3, 7, 12]\n"
     ]
    }
   ],
   "source": [
    "#[Que.46] Find the common elements between a set and a list.\n",
    "\n",
    "# Step 1: Define a set and a list\n",
    "my_set = {3, 7, 9, 12, 15}\n",
    "my_list = [7, 12, 5, 3]\n",
    "\n",
    "# Step 2: Convert the list to a set for efficient comparison\n",
    "list_to_set = set(my_list)\n",
    "\n",
    "# Step 3: Initialize an empty list to store common elements\n",
    "common_elements = []\n",
    "\n",
    "# Step 4: Iterate through the elements in the set\n",
    "for element in my_set:\n",
    "    # Step 5: Check if the element is present in the converted set (list_to_set)\n",
    "    if element in list_to_set:\n",
    "        # Step 6: If the element is present in both the set and the list, add it to the common_elements list \n",
    "        common_elements.append(element)\n",
    "        \n",
    "# Step 7: Print the common elements        \n",
    "print(\"Common elements:\", common_elements)"
   ]
  },
  {
   "cell_type": "code",
   "execution_count": 21,
   "id": "de9873e2-12f6-4e21-953c-dedef239a680",
   "metadata": {},
   "outputs": [
    {
     "name": "stdin",
     "output_type": "stream",
     "text": [
      "Enter the value of n:  12\n"
     ]
    },
    {
     "name": "stdout",
     "output_type": "stream",
     "text": [
      "The set of the first 12 triangular numbers is: {1, 66, 3, 36, 6, 10, 45, 78, 15, 21, 55, 28}\n"
     ]
    }
   ],
   "source": [
    "#[Que.47] Create a set of the first n triangular numbers.\n",
    "\n",
    "def generate_triangular_numbers(n):\n",
    "    triangular_numbers = set()  # Create an empty set to store the triangular numbers\n",
    "    for i in range(1, n + 1):\n",
    "        triangular_number = i * (i + 1) // 2  # Calculate the ith triangular number using the formula\n",
    "        triangular_numbers.add(triangular_number) # Add the calculated triangular number to the set\n",
    "    return triangular_numbers\n",
    "\n",
    "# Input the value of 'n'\n",
    "n = int(input(\"Enter the value of n: \"))\n",
    "\n",
    "# Call the function to generate the set of first 'n' triangular numbers\n",
    "triangular_set = generate_triangular_numbers(n)\n",
    "\n",
    "# Display the set of triangular numbers\n",
    "print(f\"The set of the first {n} triangular numbers is:\",triangular_set)\n"
   ]
  },
  {
   "cell_type": "code",
   "execution_count": 1,
   "id": "d46515ed-ef6b-4494-8593-7c8887d58f16",
   "metadata": {},
   "outputs": [
    {
     "name": "stdout",
     "output_type": "stream",
     "text": [
      "set2 is a subset of set1\n"
     ]
    }
   ],
   "source": [
    "#[Que.48] Check if a set contains another set as a subset.\n",
    "\n",
    "# Define two sets\n",
    "set1 = {1, 2, 3, 4, 5}\n",
    "set2 = {3, 4}\n",
    "\n",
    "# Check if set2 is a subset of set1\n",
    "is_subset = set2.issubset(set1)\n",
    "\n",
    "\n",
    "# Print the result\n",
    "if is_subset:\n",
    "    print(\"set2 is a subset of set1\")\n",
    "else:\n",
    "    print(\"set2 is not a subset of set1\")\n"
   ]
  },
  {
   "cell_type": "code",
   "execution_count": 3,
   "id": "f7e0b66e-fc02-4460-9916-a376f649a4e5",
   "metadata": {},
   "outputs": [
    {
     "name": "stdout",
     "output_type": "stream",
     "text": [
      "{0, 1}\n"
     ]
    }
   ],
   "source": [
    "#[Que.49] Create a set of alternating 1s and 0s of length n.\n",
    "\n",
    "def create_alternating_set(n):\n",
    "    # Initialize an empty set to store the alternating sequence.\n",
    "    alternating_set = set()\n",
    "    \n",
    "     # Loop to generate alternating 1s and 0s.\n",
    "    for i in range(n):\n",
    "        # Alternate between adding 1 and 0 to the set based on whether i is even or odd.\n",
    "        if i % 2 == 0:\n",
    "            alternating_set.add(1)  # Add 1 if i is even.\n",
    "        else:\n",
    "            alternating_set.add(0)   # Add 0 if i is odd.\n",
    "            \n",
    "    return alternating_set\n",
    "\n",
    "# Define the desired length of the alternating set.\n",
    "length_n = 10\n",
    "\n",
    "# Call the function to create the alternating set of length 'length_n'.        \n",
    "result = create_alternating_set(length_n)\n",
    "    \n",
    "# Print the resulting set.\n",
    "print(result)\n",
    "    "
   ]
  },
  {
   "cell_type": "code",
   "execution_count": 4,
   "id": "ee143665-805b-4b31-97ff-9f57e2b35b53",
   "metadata": {},
   "outputs": [
    {
     "name": "stdout",
     "output_type": "stream",
     "text": [
      "Merged set: {1, 2, 3, 4, 5, 6, 7}\n"
     ]
    }
   ],
   "source": [
    "#[Que.50] Merge multiple sets into one.\n",
    "\n",
    "# Step 1: Create multiple sets\n",
    "set1 = {1, 2, 3}\n",
    "set2 = {3, 4, 5}\n",
    "set3 = {5, 6, 7}\n",
    "\n",
    "# Step 2: Use the union() method to merge sets\n",
    "merged_set = set1.union(set2, set3)\n",
    "\n",
    "# Alternatively, you can use the | operator\n",
    "# merged_set = set1 | set2 | set3\n",
    "\n",
    "# Step 3: Print the merged set\n",
    "print(\"Merged set:\", merged_set)\n"
   ]
  },
  {
   "cell_type": "code",
   "execution_count": null,
   "id": "61bfac86-e14a-4b2e-ac72-04d3b02d16ae",
   "metadata": {},
   "outputs": [],
   "source": []
  }
 ],
 "metadata": {
  "kernelspec": {
   "display_name": "Python 3 (ipykernel)",
   "language": "python",
   "name": "python3"
  },
  "language_info": {
   "codemirror_mode": {
    "name": "ipython",
    "version": 3
   },
   "file_extension": ".py",
   "mimetype": "text/x-python",
   "name": "python",
   "nbconvert_exporter": "python",
   "pygments_lexer": "ipython3",
   "version": "3.10.8"
  }
 },
 "nbformat": 4,
 "nbformat_minor": 5
}
